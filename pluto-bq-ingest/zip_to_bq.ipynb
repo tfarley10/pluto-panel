{
 "cells": [
  {
   "cell_type": "code",
   "execution_count": 1,
   "id": "5c73239b-3653-4169-858d-7bc901ac9c8c",
   "metadata": {},
   "outputs": [],
   "source": [
    "import pandas as pd\n",
    "import os\n",
    "import pluto_parquet as pp\n",
    "from zips import unzip_to_temp\n",
    "from shutil import rmtree\n",
    "from functools import partial\n",
    "import warnings\n",
    "from google.cloud import storage\n",
    "import tempfile\n",
    "import logging\n",
    "from logging.config import fileConfig"
   ]
  },
  {
   "cell_type": "code",
   "execution_count": 2,
   "id": "04f69c74-1365-4588-8383-118fa4bd235c",
   "metadata": {},
   "outputs": [],
   "source": [
    "warnings.filterwarnings('ignore', message='.*initial implementation of Parquet.*')\n",
    "os.environ[\"GOOGLE_APPLICATION_CREDENTIALS\"] = 'etc/secret.json'"
   ]
  },
  {
   "cell_type": "code",
   "execution_count": 3,
   "id": "57fb2d05-edad-4a42-834e-fc8fcf2ce4df",
   "metadata": {},
   "outputs": [],
   "source": [
    "loginipath='logs/logging_config.ini'\n",
    "fileConfig(loginipath, defaults={'logfilename': 'logs/pluto.log'})\n",
    "logger = logging.getLogger('sLogger')"
   ]
  },
  {
   "cell_type": "code",
   "execution_count": 4,
   "id": "a2ed84e6-b901-4268-a1a4-6c2942355ffc",
   "metadata": {},
   "outputs": [],
   "source": [
    "client = storage.Client()\n",
    "bucket = client.bucket('raw-pluto')"
   ]
  },
  {
   "cell_type": "code",
   "execution_count": 5,
   "id": "93591a0d-6380-4b15-b692-b546fffe0639",
   "metadata": {},
   "outputs": [],
   "source": [
    "zip_links=pd.read_csv(\"etc/zip_links.csv\")[18:]"
   ]
  },
  {
   "cell_type": "code",
   "execution_count": 6,
   "id": "788dbc83-5615-4973-b5ff-a6ea20829400",
   "metadata": {
    "tags": []
   },
   "outputs": [],
   "source": [
    "for _, row in zip_links.iterrows():\n",
    "    \n",
    "    pluto_year=str(row.year)\n",
    "    zip_path=row.path\n",
    "    \n",
    "    tmp_dir=unzip_to_temp(zip_path)\n",
    "    paths=pp.list_shp(tmp_dir)\n",
    "    root_paths=['..' + p for p in paths]\n",
    "    \n",
    "    aggregate_year = partial(pp.agg_from_path, year=pluto_year)\n",
    "    gdf_list=list(map(aggregate_year, root_paths))\n",
    "    df=pd.concat(gdf_list)\n",
    "    gdf_list=None\n",
    "    \n",
    "    \n",
    "    rmtree(tmp_dir)\n",
    "    \n",
    "    \n",
    "    \n",
    "    with tempfile.NamedTemporaryFile() as fp:\n",
    "        df.to_parquet(fp)\n",
    "        df=None\n",
    "        blob_name=f'pluto_{pluto_year}.parquet'\n",
    "        logger.info(f'loading making blob: {blob_name}')\n",
    "        blob=bucket.blob(blob_name)\n",
    "        blob.upload_from_filename(fp.name)\n",
    "        logger.info(f'succesfully loaded df with rows: {df.shape[0]} and columns: {df.shape[1]} to file: {blob_name}')"
   ]
  },
  {
   "cell_type": "code",
   "execution_count": null,
   "id": "c4b2f10c-5296-4b86-b13e-73c356599892",
   "metadata": {},
   "outputs": [],
   "source": []
  }
 ],
 "metadata": {
  "kernelspec": {
   "display_name": "Python 3",
   "language": "python",
   "name": "python3"
  },
  "language_info": {
   "codemirror_mode": {
    "name": "ipython",
    "version": 3
   },
   "file_extension": ".py",
   "mimetype": "text/x-python",
   "name": "python",
   "nbconvert_exporter": "python",
   "pygments_lexer": "ipython3",
   "version": "3.8.9"
  }
 },
 "nbformat": 4,
 "nbformat_minor": 5
}
