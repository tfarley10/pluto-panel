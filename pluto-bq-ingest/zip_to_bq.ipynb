{
 "cells": [
  {
   "cell_type": "code",
   "execution_count": null,
   "id": "4594ce9c",
   "metadata": {},
   "outputs": [],
   "source": [
    "import pandas as pd\n",
    "import os\n",
    "import pluto_parquet as pp\n",
    "from zips import unzip_to_temp\n",
    "from shutil import rmtree\n",
    "from functools import partial\n",
    "import warnings\n",
    "from google.cloud import storage\n",
    "import tempfile\n",
    "import logging\n",
    "from logging.config import fileConfig\n",
    "from utils import cpu_use"
   ]
  },
  {
   "cell_type": "code",
   "execution_count": null,
   "id": "8147fef4",
   "metadata": {},
   "outputs": [],
   "source": [
    "warnings.filterwarnings('ignore', message='.*initial implementation of Parquet.*')\n",
    "os.environ[\"GOOGLE_APPLICATION_CREDENTIALS\"] = 'etc/secret.json'"
   ]
  },
  {
   "cell_type": "code",
   "execution_count": null,
   "id": "33afffe1",
   "metadata": {},
   "outputs": [],
   "source": [
    "log_file='extract_load.log'\n",
    "log_path=os.path.join('logs', log_file)\n",
    "\n",
    "loginipath='logs/logging_config.ini'\n",
    "fileConfig(loginipath, defaults={'logfilename': log_path})\n",
    "logger = logging.getLogger('sLogger')"
   ]
  },
  {
   "cell_type": "code",
   "execution_count": null,
   "id": "7ddfcdd4",
   "metadata": {},
   "outputs": [],
   "source": [
    "client = storage.Client()\n",
    "bucket = client.bucket('raw-pluto')"
   ]
  },
  {
   "cell_type": "code",
   "execution_count": null,
   "id": "c7bed8fe",
   "metadata": {},
   "outputs": [],
   "source": [
    "zip_links=pd.read_csv(\"etc/zip_links.csv\")"
   ]
  },
  {
   "cell_type": "code",
   "execution_count": null,
   "id": "2efddea9",
   "metadata": {
    "tags": []
   },
   "outputs": [],
   "source": [
    "for _, row in zip_links.iterrows():\n",
    "    \n",
    "    pluto_year=str(row.year)\n",
    "    zip_path=row.path\n",
    "    \n",
    "    tmp_dir=unzip_to_temp(zip_path)\n",
    "    paths=pp.filter_valid_pluto(tmp_dir)\n",
    "    root_paths=['../..' + p for p in paths]\n",
    "    \n",
    "    aggregate_year = partial(pp.agg_from_path, year=pluto_year)\n",
    "    gdf_list=list(map(aggregate_year, root_paths))\n",
    "    \n",
    "    logger.info(f'{cpu_use()} aggregating files: {len(gdf_list)} from year: {pluto_year}')\n",
    "    df=pd.concat(gdf_list)\n",
    "    del gdf_list\n",
    "    logger.info(cpu_use())\n",
    "    \n",
    "    \n",
    "    rmtree(tmp_dir)\n",
    "    \n",
    "    logger.info(f'{cpu_use()} cleaning temporary directory')\n",
    "    \n",
    "    with tempfile.NamedTemporaryFile() as fp:\n",
    "        logger.info(f'{cpu_use()} aggregating files: writing aggregated file to tempfile')\n",
    "        df.to_parquet(fp)\n",
    "        data_shape=df.shape\n",
    "        del df\n",
    "        logger.info(f'{cpu_use()} deleted in memory dataframe')\n",
    "        blob_name=f'pluto_{pluto_year}.parquet'\n",
    "        logger.info(f'making blob: {blob_name}')\n",
    "        blob=bucket.blob(blob_name)\n",
    "        blob.upload_from_filename(fp.name)\n",
    "        logger.info(f'succesfully loaded df with rows: {data_shape[0]} and columns: {data_shape[1]} to file: {blob_name}')"
   ]
  },
  {
   "cell_type": "code",
   "execution_count": null,
   "id": "05e40cf3",
   "metadata": {},
   "outputs": [],
   "source": []
  }
 ],
 "metadata": {
  "kernelspec": {
   "display_name": "Python 3",
   "language": "python",
   "name": "python3"
  },
  "language_info": {
   "codemirror_mode": {
    "name": "ipython",
    "version": 3
   },
   "file_extension": ".py",
   "mimetype": "text/x-python",
   "name": "python",
   "nbconvert_exporter": "python",
   "pygments_lexer": "ipython3",
   "version": "3.8.9"
  }
 },
 "nbformat": 4,
 "nbformat_minor": 5
}
