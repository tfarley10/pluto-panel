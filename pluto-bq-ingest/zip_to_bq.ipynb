{
 "cells": [
  {
   "cell_type": "code",
   "execution_count": 1,
   "id": "cfd2cbd6",
   "metadata": {},
   "outputs": [],
   "source": [
    "import pandas as pd\n",
    "import os\n",
    "import pluto_parquet as pp\n",
    "from zips import unzip_to_temp\n",
    "from shutil import rmtree\n",
    "from functools import partial\n",
    "import warnings\n",
    "from google.cloud import storage\n",
    "import tempfile\n",
    "import logging\n",
    "from logging.config import fileConfig\n",
    "from utils import cpu_use"
   ]
  },
  {
   "cell_type": "code",
   "execution_count": 2,
   "id": "f2171d09",
   "metadata": {},
   "outputs": [],
   "source": [
    "warnings.filterwarnings('ignore', message='.*initial implementation of Parquet.*')\n",
    "os.environ[\"GOOGLE_APPLICATION_CREDENTIALS\"] = 'etc/secret.json'"
   ]
  },
  {
   "cell_type": "code",
   "execution_count": 3,
   "id": "ac8dba66",
   "metadata": {},
   "outputs": [],
   "source": [
    "log_file='extract_load.log'\n",
    "log_path=os.path.join('logs', log_file)\n",
    "\n",
    "loginipath='logs/logging_config.ini'\n",
    "fileConfig(loginipath, defaults={'logfilename': log_path})\n",
    "logger = logging.getLogger('sLogger')"
   ]
  },
  {
   "cell_type": "code",
   "execution_count": 4,
   "id": "f4efdd60",
   "metadata": {},
   "outputs": [],
   "source": [
    "client = storage.Client()\n",
    "bucket = client.bucket('raw-pluto')"
   ]
  },
  {
   "cell_type": "code",
   "execution_count": 5,
   "id": "bf9d6c9c",
   "metadata": {},
   "outputs": [],
   "source": [
    "zip_links=pd.read_csv(\"etc/zip_links.csv\")"
   ]
  },
  {
   "cell_type": "code",
   "execution_count": null,
   "id": "5b42e448",
   "metadata": {
    "tags": []
   },
   "outputs": [
    {
     "name": "stdout",
     "output_type": "stream",
     "text": [
      "INFO - Downloading ZIPFile https://www1.nyc.gov/assets/planning/download/zip/data-maps/open-data/mappluto_02b.zip\n",
      "INFO - Unzipping https://www1.nyc.gov/assets/planning/download/zip/data-maps/open-data/mappluto_02b.zip\n",
      "INFO - reading from 0 to 50000 rows from file: qnmappluto.shp for year 2002\n",
      "INFO - transforming data\n",
      "INFO - reading from 50000 to 100000 rows from file: qnmappluto.shp for year 2002\n",
      "INFO - transforming data\n",
      "INFO - reading from 100000 to 150000 rows from file: qnmappluto.shp for year 2002\n",
      "INFO - transforming data\n",
      "INFO - reading from 150000 to 200000 rows from file: qnmappluto.shp for year 2002\n",
      "INFO - transforming data\n",
      "INFO - reading from 200000 to 250000 rows from file: qnmappluto.shp for year 2002\n",
      "INFO - transforming data\n",
      "INFO - reading from 250000 to 300000 rows from file: qnmappluto.shp for year 2002\n",
      "INFO - transforming data\n",
      "INFO - reading from 300000 to 350000 rows from file: qnmappluto.shp for year 2002\n",
      "INFO - transforming data\n",
      "INFO - cpu usage: 46.2% aggregating chunked dataframes\n",
      "INFO - reading from 0 to 50000 rows from file: bkmappluto.shp for year 2002\n",
      "INFO - transforming data\n",
      "INFO - reading from 50000 to 100000 rows from file: bkmappluto.shp for year 2002\n",
      "INFO - transforming data\n",
      "INFO - reading from 100000 to 150000 rows from file: bkmappluto.shp for year 2002\n",
      "INFO - transforming data\n",
      "INFO - reading from 150000 to 200000 rows from file: bkmappluto.shp for year 2002\n",
      "INFO - transforming data\n",
      "INFO - reading from 200000 to 250000 rows from file: bkmappluto.shp for year 2002\n",
      "INFO - transforming data\n",
      "INFO - reading from 250000 to 300000 rows from file: bkmappluto.shp for year 2002\n",
      "INFO - transforming data\n",
      "INFO - cpu usage: 50.8% aggregating chunked dataframes\n",
      "INFO - reading from 0 to 50000 rows from file: bxmappluto.shp for year 2002\n",
      "INFO - transforming data\n",
      "INFO - reading from 50000 to 100000 rows from file: bxmappluto.shp for year 2002\n",
      "INFO - transforming data\n",
      "INFO - cpu usage: 48.0% aggregating chunked dataframes\n",
      "INFO - reading from 0 to 50000 rows from file: mnmappluto.shp for year 2002\n",
      "INFO - transforming data\n",
      "INFO - cpu usage: 57.8% aggregating chunked dataframes\n",
      "INFO - reading from 0 to 50000 rows from file: simappluto.shp for year 2002\n",
      "INFO - transforming data\n",
      "INFO - reading from 50000 to 100000 rows from file: simappluto.shp for year 2002\n",
      "INFO - transforming data\n",
      "INFO - reading from 100000 to 150000 rows from file: simappluto.shp for year 2002\n",
      "INFO - transforming data\n",
      "INFO - cpu usage: 56.8% aggregating chunked dataframes\n",
      "INFO - cpu usage: 51.9% aggregating files: 5 from year: 2002\n",
      "INFO - cpu usage: 60.6%\n",
      "INFO - cpu usage: 50.4% cleaning temporary directory\n",
      "INFO - cpu usage: 50.0% aggregating files: writing aggregated file to tempfile\n"
     ]
    }
   ],
   "source": [
    "for _, row in zip_links.iterrows():\n",
    "    \n",
    "    pluto_year=str(row.year)\n",
    "    zip_path=row.path\n",
    "    \n",
    "    tmp_dir=unzip_to_temp(zip_path)\n",
    "    paths=pp.filter_valid_pluto(tmp_dir)\n",
    "    root_paths=['../..' + p for p in paths]\n",
    "    \n",
    "    aggregate_year = partial(pp.agg_from_path, year=pluto_year)\n",
    "    gdf_list=list(map(aggregate_year, root_paths))\n",
    "    \n",
    "    logger.info(f'{cpu_use()} aggregating files: {len(gdf_list)} from year: {pluto_year}')\n",
    "    df=pd.concat(gdf_list)\n",
    "    del gdf_list\n",
    "    logger.info(cpu_use())\n",
    "    \n",
    "    \n",
    "    rmtree(tmp_dir)\n",
    "    \n",
    "    logger.info(f'{cpu_use()} cleaning temporary directory')\n",
    "    \n",
    "    with tempfile.NamedTemporaryFile() as fp:\n",
    "        logger.info(f'{cpu_use()} aggregating files: writing aggregated file to tempfile')\n",
    "        df.to_parquet(fp)\n",
    "        data_shape=df.shape\n",
    "        del df\n",
    "        logger.info(f'{cpu_use()} deleted in memory dataframe')\n",
    "        blob_name=f'pluto_{pluto_year}.parquet'\n",
    "        logger.info(f'making blob: {blob_name}')\n",
    "        blob=bucket.blob(blob_name)\n",
    "        blob.upload_from_filename(fp.name)\n",
    "        logger.info(f'succesfully loaded df with rows: {data_shape[0]} and columns: {data_shape[1]} to file: {blob_name}')"
   ]
  },
  {
   "cell_type": "code",
   "execution_count": null,
   "id": "e709a619",
   "metadata": {},
   "outputs": [],
   "source": []
  }
 ],
 "metadata": {
  "kernelspec": {
   "display_name": "Python 3",
   "language": "python",
   "name": "python3"
  },
  "language_info": {
   "codemirror_mode": {
    "name": "ipython",
    "version": 3
   },
   "file_extension": ".py",
   "mimetype": "text/x-python",
   "name": "python",
   "nbconvert_exporter": "python",
   "pygments_lexer": "ipython3",
   "version": "3.8.2"
  }
 },
 "nbformat": 4,
 "nbformat_minor": 5
}
