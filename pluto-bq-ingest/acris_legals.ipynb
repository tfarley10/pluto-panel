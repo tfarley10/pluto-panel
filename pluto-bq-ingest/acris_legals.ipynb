{
 "cells": [
  {
   "cell_type": "code",
   "execution_count": 1,
   "id": "fd0da92d",
   "metadata": {},
   "outputs": [],
   "source": [
    "import pandas as pd\n",
    "import requests\n",
    "import os\n",
    "from google.cloud import bigquery"
   ]
  },
  {
   "cell_type": "code",
   "execution_count": 2,
   "id": "ff0096d2",
   "metadata": {},
   "outputs": [],
   "source": [
    "os.environ[\"GOOGLE_APPLICATION_CREDENTIALS\"] = 'secret.json'\n",
    "\n",
    "bq_client = bigquery.Client()"
   ]
  },
  {
   "cell_type": "markdown",
   "id": "6e049fd4",
   "metadata": {},
   "source": [
    "[parties](https://data.cityofnewyork.us/City-Government/ACRIS-Real-Property-Parties/636b-3b5g)"
   ]
  },
  {
   "cell_type": "code",
   "execution_count": 3,
   "id": "2e2fe999",
   "metadata": {},
   "outputs": [],
   "source": [
    "\n",
    "ACRIS=f'https://data.cityofnewyork.us/resource/8h5j-fqxa.json?$'"
   ]
  },
  {
   "cell_type": "code",
   "execution_count": 4,
   "id": "eaf98ce7",
   "metadata": {},
   "outputs": [],
   "source": [
    "acris_count=f'https://data.cityofnewyork.us/resource/8h5j-fqxa.json?$select=count(1) as cnt'\n",
    "cnt_req=requests.get(acris_count).json()\n",
    "nrows=int(cnt_req[0]['cnt'])"
   ]
  },
  {
   "cell_type": "code",
   "execution_count": 5,
   "id": "c5a605a7",
   "metadata": {},
   "outputs": [
    {
     "data": {
      "text/plain": [
       "20560075"
      ]
     },
     "execution_count": 5,
     "metadata": {},
     "output_type": "execute_result"
    }
   ],
   "source": [
    "nrows"
   ]
  },
  {
   "cell_type": "code",
   "execution_count": 6,
   "id": "064f22cf",
   "metadata": {},
   "outputs": [],
   "source": [
    "limit=10**6\n",
    "offset=0\n",
    "\n",
    "offs=list(range(0, nrows, limit))\n",
    "\n",
    "reqs=[f'{ACRIS}limit={limit}&$offset={o}&$order=good_through_date DESC' for o in offs]"
   ]
  },
  {
   "cell_type": "code",
   "execution_count": 7,
   "id": "e00c5b3e",
   "metadata": {},
   "outputs": [],
   "source": [
    "table_id='pluto-panel.real_estate.raw_acris_legals'\n",
    "\n",
    "job_config = bigquery.LoadJobConfig(\n",
    "        autodetect=True,\n",
    "        write_disposition='WRITE_APPEND'\n",
    "\n",
    "        )"
   ]
  },
  {
   "cell_type": "code",
   "execution_count": 8,
   "id": "1e4da589",
   "metadata": {},
   "outputs": [
    {
     "name": "stdout",
     "output_type": "stream",
     "text": [
      "reading 1 / 21: https://data.cityofnewyork.us/resource/8h5j-fqxa.json?$limit=1000000&$offset=0&$order=good_through_date DESC\n",
      "making dataframe\n",
      "loading to bigquery\n",
      "reading 2 / 21: https://data.cityofnewyork.us/resource/8h5j-fqxa.json?$limit=1000000&$offset=1000000&$order=good_through_date DESC\n",
      "making dataframe\n",
      "loading to bigquery\n",
      "reading 3 / 21: https://data.cityofnewyork.us/resource/8h5j-fqxa.json?$limit=1000000&$offset=2000000&$order=good_through_date DESC\n",
      "making dataframe\n",
      "loading to bigquery\n",
      "reading 4 / 21: https://data.cityofnewyork.us/resource/8h5j-fqxa.json?$limit=1000000&$offset=3000000&$order=good_through_date DESC\n",
      "making dataframe\n",
      "loading to bigquery\n",
      "reading 5 / 21: https://data.cityofnewyork.us/resource/8h5j-fqxa.json?$limit=1000000&$offset=4000000&$order=good_through_date DESC\n",
      "making dataframe\n",
      "loading to bigquery\n",
      "reading 6 / 21: https://data.cityofnewyork.us/resource/8h5j-fqxa.json?$limit=1000000&$offset=5000000&$order=good_through_date DESC\n",
      "making dataframe\n",
      "loading to bigquery\n",
      "reading 7 / 21: https://data.cityofnewyork.us/resource/8h5j-fqxa.json?$limit=1000000&$offset=6000000&$order=good_through_date DESC\n",
      "making dataframe\n",
      "loading to bigquery\n",
      "reading 8 / 21: https://data.cityofnewyork.us/resource/8h5j-fqxa.json?$limit=1000000&$offset=7000000&$order=good_through_date DESC\n",
      "making dataframe\n",
      "loading to bigquery\n",
      "reading 9 / 21: https://data.cityofnewyork.us/resource/8h5j-fqxa.json?$limit=1000000&$offset=8000000&$order=good_through_date DESC\n",
      "making dataframe\n",
      "loading to bigquery\n",
      "reading 10 / 21: https://data.cityofnewyork.us/resource/8h5j-fqxa.json?$limit=1000000&$offset=9000000&$order=good_through_date DESC\n",
      "making dataframe\n",
      "loading to bigquery\n",
      "reading 11 / 21: https://data.cityofnewyork.us/resource/8h5j-fqxa.json?$limit=1000000&$offset=10000000&$order=good_through_date DESC\n",
      "making dataframe\n",
      "loading to bigquery\n",
      "reading 12 / 21: https://data.cityofnewyork.us/resource/8h5j-fqxa.json?$limit=1000000&$offset=11000000&$order=good_through_date DESC\n",
      "making dataframe\n",
      "loading to bigquery\n",
      "reading 13 / 21: https://data.cityofnewyork.us/resource/8h5j-fqxa.json?$limit=1000000&$offset=12000000&$order=good_through_date DESC\n",
      "making dataframe\n",
      "loading to bigquery\n",
      "reading 14 / 21: https://data.cityofnewyork.us/resource/8h5j-fqxa.json?$limit=1000000&$offset=13000000&$order=good_through_date DESC\n",
      "making dataframe\n",
      "loading to bigquery\n",
      "reading 15 / 21: https://data.cityofnewyork.us/resource/8h5j-fqxa.json?$limit=1000000&$offset=14000000&$order=good_through_date DESC\n",
      "making dataframe\n",
      "loading to bigquery\n",
      "reading 16 / 21: https://data.cityofnewyork.us/resource/8h5j-fqxa.json?$limit=1000000&$offset=15000000&$order=good_through_date DESC\n",
      "making dataframe\n",
      "loading to bigquery\n",
      "reading 17 / 21: https://data.cityofnewyork.us/resource/8h5j-fqxa.json?$limit=1000000&$offset=16000000&$order=good_through_date DESC\n",
      "making dataframe\n",
      "loading to bigquery\n",
      "reading 18 / 21: https://data.cityofnewyork.us/resource/8h5j-fqxa.json?$limit=1000000&$offset=17000000&$order=good_through_date DESC\n",
      "making dataframe\n",
      "loading to bigquery\n",
      "reading 19 / 21: https://data.cityofnewyork.us/resource/8h5j-fqxa.json?$limit=1000000&$offset=18000000&$order=good_through_date DESC\n",
      "making dataframe\n",
      "loading to bigquery\n",
      "reading 20 / 21: https://data.cityofnewyork.us/resource/8h5j-fqxa.json?$limit=1000000&$offset=19000000&$order=good_through_date DESC\n",
      "making dataframe\n",
      "loading to bigquery\n",
      "reading 21 / 21: https://data.cityofnewyork.us/resource/8h5j-fqxa.json?$limit=1000000&$offset=20000000&$order=good_through_date DESC\n",
      "making dataframe\n",
      "loading to bigquery\n"
     ]
    }
   ],
   "source": [
    "prog=1\n",
    "for r in reqs:\n",
    "    print(f'reading {prog} / {len(reqs)}: {r}')\n",
    "    d=requests.get(r).json()\n",
    "    print('making dataframe')\n",
    "    d2=pd.DataFrame(d)\n",
    "    print('loading to bigquery')\n",
    "    job = bq_client.load_table_from_dataframe(\n",
    "            d2, table_id, job_config=job_config)\n",
    "    job.result()\n",
    "    prog+=1\n",
    "    \n",
    "    "
   ]
  },
  {
   "cell_type": "code",
   "execution_count": null,
   "id": "f9146b17",
   "metadata": {},
   "outputs": [],
   "source": [
    "table = bq_client.get_table(table_id)  # Make an API request.\n",
    "print(\n",
    "    \"Loaded {} rows and {} columns to {}\".format(\n",
    "        table.num_rows, len(table.schema), table_id\n",
    "    )\n",
    ")"
   ]
  },
  {
   "cell_type": "code",
   "execution_count": null,
   "id": "e9ee66ec",
   "metadata": {},
   "outputs": [],
   "source": []
  }
 ],
 "metadata": {
  "kernelspec": {
   "display_name": "Python 3",
   "language": "python",
   "name": "python3"
  },
  "language_info": {
   "codemirror_mode": {
    "name": "ipython",
    "version": 3
   },
   "file_extension": ".py",
   "mimetype": "text/x-python",
   "name": "python",
   "nbconvert_exporter": "python",
   "pygments_lexer": "ipython3",
   "version": "3.8.2"
  }
 },
 "nbformat": 4,
 "nbformat_minor": 5
}
