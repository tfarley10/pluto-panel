{
 "cells": [
  {
   "cell_type": "code",
   "execution_count": 1,
   "id": "b995a2f9",
   "metadata": {},
   "outputs": [],
   "source": [
    "import pandas as pd\n",
    "import requests\n",
    "import os\n",
    "from google.cloud import bigquery"
   ]
  },
  {
   "cell_type": "code",
   "execution_count": 2,
   "id": "c06a2845",
   "metadata": {},
   "outputs": [],
   "source": [
    "os.environ[\"GOOGLE_APPLICATION_CREDENTIALS\"] = 'secret.json'\n",
    "\n",
    "bq_client = bigquery.Client()"
   ]
  },
  {
   "cell_type": "markdown",
   "id": "cd69217c",
   "metadata": {},
   "source": [
    "[API Docs](https://dev.socrata.com/foundry/data.cityofnewyork.us/ic3t-wcy2)  \n",
    "[OpenData](https://data.cityofnewyork.us/Housing-Development/DOB-Job-Application-Filings/ic3t-wcy2)  \n",
    "[Metadata](https://docs.google.com/spreadsheets/d/1TGe-YvR-rqV3sTm2DVl9icoiypo3ug-GDdP1ULdo1_s/edit#gid=169410431)"
   ]
  },
  {
   "cell_type": "code",
   "execution_count": 3,
   "id": "ab1ee5e6",
   "metadata": {},
   "outputs": [],
   "source": [
    "ACRIS=f'https://data.cityofnewyork.us/resource/bnx9-e6tj.json?$'"
   ]
  },
  {
   "cell_type": "code",
   "execution_count": 4,
   "id": "608815cc",
   "metadata": {},
   "outputs": [],
   "source": [
    "acris_count=f'https://data.cityofnewyork.us/resource/bnx9-e6tj.json?$select=count(1) as cnt'\n",
    "cnt_req=requests.get(acris_count).json()\n",
    "nrows=int(cnt_req[0]['cnt'])"
   ]
  },
  {
   "cell_type": "code",
   "execution_count": 5,
   "id": "8da3cd4f",
   "metadata": {},
   "outputs": [],
   "source": [
    "limit=10**6\n",
    "offset=0\n",
    "\n",
    "offs=list(range(0, nrows, limit))\n",
    "\n",
    "reqs=[f'{ACRIS}limit={limit}&$offset={o}&$order=recorded_datetime desc' for o in offs]"
   ]
  },
  {
   "cell_type": "code",
   "execution_count": 6,
   "id": "99a0c9bb",
   "metadata": {},
   "outputs": [],
   "source": [
    "table_id='pluto-panel.real_estate.raw_acris_master2'\n",
    "\n",
    "job_config = bigquery.LoadJobConfig(\n",
    "        autodetect=True,\n",
    "        write_disposition='WRITE_APPEND'\n",
    "\n",
    "        )"
   ]
  },
  {
   "cell_type": "code",
   "execution_count": 8,
   "id": "a4d35ba4",
   "metadata": {},
   "outputs": [
    {
     "name": "stdout",
     "output_type": "stream",
     "text": [
      "reading 1 / 16: https://data.cityofnewyork.us/resource/bnx9-e6tj.json?$limit=1000000&$offset=0&$order=recorded_datetime desc\n",
      "making dataframe\n",
      "loading to bigquery\n",
      "reading 2 / 16: https://data.cityofnewyork.us/resource/bnx9-e6tj.json?$limit=1000000&$offset=1000000&$order=recorded_datetime desc\n",
      "making dataframe\n",
      "loading to bigquery\n",
      "reading 3 / 16: https://data.cityofnewyork.us/resource/bnx9-e6tj.json?$limit=1000000&$offset=2000000&$order=recorded_datetime desc\n",
      "making dataframe\n",
      "loading to bigquery\n",
      "reading 4 / 16: https://data.cityofnewyork.us/resource/bnx9-e6tj.json?$limit=1000000&$offset=3000000&$order=recorded_datetime desc\n",
      "making dataframe\n",
      "loading to bigquery\n",
      "reading 5 / 16: https://data.cityofnewyork.us/resource/bnx9-e6tj.json?$limit=1000000&$offset=4000000&$order=recorded_datetime desc\n",
      "making dataframe\n",
      "loading to bigquery\n",
      "reading 6 / 16: https://data.cityofnewyork.us/resource/bnx9-e6tj.json?$limit=1000000&$offset=5000000&$order=recorded_datetime desc\n",
      "making dataframe\n",
      "loading to bigquery\n",
      "reading 7 / 16: https://data.cityofnewyork.us/resource/bnx9-e6tj.json?$limit=1000000&$offset=6000000&$order=recorded_datetime desc\n",
      "making dataframe\n",
      "loading to bigquery\n",
      "reading 8 / 16: https://data.cityofnewyork.us/resource/bnx9-e6tj.json?$limit=1000000&$offset=7000000&$order=recorded_datetime desc\n",
      "making dataframe\n",
      "loading to bigquery\n",
      "reading 9 / 16: https://data.cityofnewyork.us/resource/bnx9-e6tj.json?$limit=1000000&$offset=8000000&$order=recorded_datetime desc\n",
      "making dataframe\n",
      "loading to bigquery\n",
      "reading 10 / 16: https://data.cityofnewyork.us/resource/bnx9-e6tj.json?$limit=1000000&$offset=9000000&$order=recorded_datetime desc\n",
      "making dataframe\n",
      "loading to bigquery\n",
      "reading 11 / 16: https://data.cityofnewyork.us/resource/bnx9-e6tj.json?$limit=1000000&$offset=10000000&$order=recorded_datetime desc\n",
      "making dataframe\n",
      "loading to bigquery\n",
      "reading 12 / 16: https://data.cityofnewyork.us/resource/bnx9-e6tj.json?$limit=1000000&$offset=11000000&$order=recorded_datetime desc\n",
      "making dataframe\n",
      "loading to bigquery\n",
      "reading 13 / 16: https://data.cityofnewyork.us/resource/bnx9-e6tj.json?$limit=1000000&$offset=12000000&$order=recorded_datetime desc\n",
      "making dataframe\n",
      "loading to bigquery\n",
      "reading 14 / 16: https://data.cityofnewyork.us/resource/bnx9-e6tj.json?$limit=1000000&$offset=13000000&$order=recorded_datetime desc\n",
      "making dataframe\n",
      "loading to bigquery\n",
      "reading 15 / 16: https://data.cityofnewyork.us/resource/bnx9-e6tj.json?$limit=1000000&$offset=14000000&$order=recorded_datetime desc\n",
      "making dataframe\n",
      "loading to bigquery\n",
      "reading 16 / 16: https://data.cityofnewyork.us/resource/bnx9-e6tj.json?$limit=1000000&$offset=15000000&$order=recorded_datetime desc\n",
      "making dataframe\n",
      "loading to bigquery\n"
     ]
    }
   ],
   "source": [
    "prog=1\n",
    "for r in reqs:\n",
    "    print(f'reading {prog} / {len(reqs)}: {r}')\n",
    "    d=requests.get(r).json()\n",
    "    print('making dataframe')\n",
    "    d2=pd.DataFrame(d)\n",
    "    print('loading to bigquery')\n",
    "    job = bq_client.load_table_from_dataframe(\n",
    "            d2, table_id, job_config=job_config)\n",
    "    job.result()\n",
    "    prog+=1\n",
    "    \n",
    "    "
   ]
  },
  {
   "cell_type": "code",
   "execution_count": 9,
   "id": "50ad4d59",
   "metadata": {},
   "outputs": [
    {
     "name": "stdout",
     "output_type": "stream",
     "text": [
      "Loaded 15600757 rows and 14 columns to pluto-panel.real_estate.raw_acris_master2\n"
     ]
    }
   ],
   "source": [
    "table = bq_client.get_table(table_id)  # Make an API request.\n",
    "print(\n",
    "    \"Loaded {} rows and {} columns to {}\".format(\n",
    "        table.num_rows, len(table.schema), table_id\n",
    "    )\n",
    ")"
   ]
  },
  {
   "cell_type": "code",
   "execution_count": null,
   "id": "24c44f68",
   "metadata": {},
   "outputs": [],
   "source": []
  }
 ],
 "metadata": {
  "kernelspec": {
   "display_name": "Python 3",
   "language": "python",
   "name": "python3"
  },
  "language_info": {
   "codemirror_mode": {
    "name": "ipython",
    "version": 3
   },
   "file_extension": ".py",
   "mimetype": "text/x-python",
   "name": "python",
   "nbconvert_exporter": "python",
   "pygments_lexer": "ipython3",
   "version": "3.8.2"
  }
 },
 "nbformat": 4,
 "nbformat_minor": 5
}
