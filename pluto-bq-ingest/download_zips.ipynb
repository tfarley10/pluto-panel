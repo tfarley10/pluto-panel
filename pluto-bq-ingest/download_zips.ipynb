{
 "cells": [
  {
   "cell_type": "code",
   "execution_count": 1,
   "id": "46a14cc6",
   "metadata": {},
   "outputs": [],
   "source": [
    "import httplib2\n",
    "import requests\n",
    "from tempfile import TemporaryFile"
   ]
  },
  {
   "cell_type": "code",
   "execution_count": 2,
   "id": "0779e056",
   "metadata": {},
   "outputs": [],
   "source": [
    "archive_link = 'https://www1.nyc.gov/site/planning/data-maps/open-data/bytes-archive.page?sorts[year]=0'\n",
    "h = httplib2.Http()\n",
    "status, response = h.request(archive_link)"
   ]
  },
  {
   "cell_type": "code",
   "execution_count": 3,
   "id": "c004b494",
   "metadata": {},
   "outputs": [],
   "source": [
    "s=response.decode(\"utf-8\")"
   ]
  },
  {
   "cell_type": "code",
   "execution_count": 4,
   "id": "c37e5dc0",
   "metadata": {},
   "outputs": [],
   "source": [
    "# print(s)\n",
    "import re"
   ]
  },
  {
   "cell_type": "code",
   "execution_count": 5,
   "id": "10a05914",
   "metadata": {},
   "outputs": [],
   "source": [
    "urls = re.findall(r'href=[\\'\"]?([^\\'\" >]+)', s)\n",
    "# print(s)"
   ]
  },
  {
   "cell_type": "code",
   "execution_count": 11,
   "id": "6a7eb16f",
   "metadata": {},
   "outputs": [],
   "source": [
    "is_plutozip=lambda x: 'mappluto' in x.lower() and \\\n",
    "                      '.zip' in x.lower() and \\\n",
    "                      'fgdb' not in x.lower()\n",
    "\n",
    "pluto_zips=list(filter(is_plutozip, urls))\n",
    "pluto_paths=list(map(lambda x: f'{archive_link}/{x}', pluto_zips))"
   ]
  },
  {
   "cell_type": "code",
   "execution_count": 13,
   "id": "8d38f29b",
   "metadata": {},
   "outputs": [],
   "source": [
    "foo=pluto_paths[-10:]"
   ]
  },
  {
   "cell_type": "code",
   "execution_count": 8,
   "id": "c26e515f",
   "metadata": {},
   "outputs": [],
   "source": [
    "def download_url(url, save_path, chunk_size=128):\n",
    "    r = requests.get(url, stream=True)\n",
    "    with open(save_path, 'wb') as fd:\n",
    "        for chunk in r.iter_content(chunk_size=chunk_size):\n",
    "            fd.write(chunk)    "
   ]
  },
  {
   "cell_type": "code",
   "execution_count": 14,
   "id": "f9dd9d8f",
   "metadata": {},
   "outputs": [],
   "source": [
    "r = requests.get(foo[0], stream=True)\n",
    "# foo[0]"
   ]
  },
  {
   "cell_type": "code",
   "execution_count": 17,
   "id": "669739e6",
   "metadata": {},
   "outputs": [],
   "source": [
    "with open('bar.zip', 'wb') as fd:\n",
    "    for chunk in (r.iter_content(chunk_size=128)):\n",
    "        fd.write(chunk)"
   ]
  }
 ],
 "metadata": {
  "kernelspec": {
   "display_name": "Python 3",
   "language": "python",
   "name": "python3"
  },
  "language_info": {
   "codemirror_mode": {
    "name": "ipython",
    "version": 3
   },
   "file_extension": ".py",
   "mimetype": "text/x-python",
   "name": "python",
   "nbconvert_exporter": "python",
   "pygments_lexer": "ipython3",
   "version": "3.8.2"
  }
 },
 "nbformat": 4,
 "nbformat_minor": 5
}
