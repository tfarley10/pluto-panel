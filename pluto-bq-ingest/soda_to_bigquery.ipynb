{
 "cells": [
  {
   "cell_type": "code",
   "execution_count": 1,
   "id": "87b3c9b8",
   "metadata": {},
   "outputs": [],
   "source": [
    "import pandas as pd\n",
    "import requests\n",
    "import os\n",
    "from google.cloud import bigquery"
   ]
  },
  {
   "cell_type": "code",
   "execution_count": 2,
   "id": "bf83fc38",
   "metadata": {},
   "outputs": [],
   "source": [
    "def getCounts(endpoint:str)->int:\n",
    "    count_str=f'{endpoint}?$select=count(1) as nrows'\n",
    "    cnt_req=requests.get(count_str).json()\n",
    "    return int(cnt_req[0]['nrows'])"
   ]
  },
  {
   "cell_type": "code",
   "execution_count": 3,
   "id": "4929c90a",
   "metadata": {},
   "outputs": [],
   "source": [
    "def makeRequests(endpoint:str, nrows:int, date_field:str, limit=5*10**5) -> list:\n",
    "\n",
    "    offsets=list(range(0, nrows, limit))\n",
    "\n",
    "    return [f'{endpoint}?$limit={limit}&$offset={o}&$order={date_field} DESC' for o in offsets]"
   ]
  },
  {
   "cell_type": "code",
   "execution_count": 4,
   "id": "1659bf2f",
   "metadata": {},
   "outputs": [],
   "source": [
    "def readRequest(request:str) -> pd.DataFrame:\n",
    "    print(f'reading request for: {request}')\n",
    "    resp=requests.get(request).json()\n",
    "    print('returning dataframe')\n",
    "    return pd.DataFrame(resp)"
   ]
  },
  {
   "cell_type": "code",
   "execution_count": 5,
   "id": "e747df30",
   "metadata": {},
   "outputs": [],
   "source": [
    "def writeBq(request_list:list, schema:str, table_name:str, write_type='WRITE_APPEND'):\n",
    "    \n",
    "    os.environ[\"GOOGLE_APPLICATION_CREDENTIALS\"] = 'secret.json'\n",
    "\n",
    "    bq_client = bigquery.Client()\n",
    "    \n",
    "    table_id=f'pluto-panel.{schema}.{table_name}'\n",
    "\n",
    "    job_config = bigquery.LoadJobConfig(\n",
    "            autodetect=True,\n",
    "            write_disposition=write_type)\n",
    "    \n",
    "    writeRequest=lambda x: bq_client.load_table_from_dataframe(readRequest(x), table_id, job_config=job_config)\n",
    "    \n",
    "    all(map(writeRequest, request_list))"
   ]
  },
  {
   "cell_type": "code",
   "execution_count": 10,
   "id": "26f328ff",
   "metadata": {},
   "outputs": [
    {
     "data": {
      "text/plain": [
       "['https://data.cityofnewyork.us/resource/ipu4-2q9a.json?$limit=500000&$offset=0&$order=dobrundate DESC',\n",
       " 'https://data.cityofnewyork.us/resource/ipu4-2q9a.json?$limit=500000&$offset=500000&$order=dobrundate DESC',\n",
       " 'https://data.cityofnewyork.us/resource/ipu4-2q9a.json?$limit=500000&$offset=1000000&$order=dobrundate DESC',\n",
       " 'https://data.cityofnewyork.us/resource/ipu4-2q9a.json?$limit=500000&$offset=1500000&$order=dobrundate DESC',\n",
       " 'https://data.cityofnewyork.us/resource/ipu4-2q9a.json?$limit=500000&$offset=2000000&$order=dobrundate DESC',\n",
       " 'https://data.cityofnewyork.us/resource/ipu4-2q9a.json?$limit=500000&$offset=2500000&$order=dobrundate DESC',\n",
       " 'https://data.cityofnewyork.us/resource/ipu4-2q9a.json?$limit=500000&$offset=3000000&$order=dobrundate DESC',\n",
       " 'https://data.cityofnewyork.us/resource/ipu4-2q9a.json?$limit=500000&$offset=3500000&$order=dobrundate DESC']"
      ]
     },
     "execution_count": 10,
     "metadata": {},
     "output_type": "execute_result"
    }
   ],
   "source": [
    "ep='https://data.cityofnewyork.us/resource/ipu4-2q9a.json'\n",
    "\n",
    "nr=getCounts(ep)\n",
    "\n",
    "reqs=makeRequests(ep, nr, 'dobrundate')\n",
    "reqs"
   ]
  },
  {
   "cell_type": "code",
   "execution_count": 12,
   "id": "cfe75f1b",
   "metadata": {},
   "outputs": [
    {
     "name": "stdout",
     "output_type": "stream",
     "text": [
      "reading request for: https://data.cityofnewyork.us/resource/ipu4-2q9a.json?$limit=500000&$offset=0&$order=dobrundate DESC\n",
      "returning dataframe\n",
      "reading request for: https://data.cityofnewyork.us/resource/ipu4-2q9a.json?$limit=500000&$offset=500000&$order=dobrundate DESC\n",
      "returning dataframe\n",
      "reading request for: https://data.cityofnewyork.us/resource/ipu4-2q9a.json?$limit=500000&$offset=1000000&$order=dobrundate DESC\n",
      "returning dataframe\n",
      "reading request for: https://data.cityofnewyork.us/resource/ipu4-2q9a.json?$limit=500000&$offset=1500000&$order=dobrundate DESC\n",
      "returning dataframe\n",
      "reading request for: https://data.cityofnewyork.us/resource/ipu4-2q9a.json?$limit=500000&$offset=2000000&$order=dobrundate DESC\n",
      "returning dataframe\n",
      "reading request for: https://data.cityofnewyork.us/resource/ipu4-2q9a.json?$limit=500000&$offset=2500000&$order=dobrundate DESC\n",
      "returning dataframe\n",
      "reading request for: https://data.cityofnewyork.us/resource/ipu4-2q9a.json?$limit=500000&$offset=3000000&$order=dobrundate DESC\n",
      "returning dataframe\n",
      "reading request for: https://data.cityofnewyork.us/resource/ipu4-2q9a.json?$limit=500000&$offset=3500000&$order=dobrundate DESC\n",
      "returning dataframe\n"
     ]
    }
   ],
   "source": [
    "writeBq(reqs, 'real_estate', 'raw_dob_permits')"
   ]
  },
  {
   "cell_type": "code",
   "execution_count": null,
   "id": "2a4581a5",
   "metadata": {},
   "outputs": [],
   "source": []
  }
 ],
 "metadata": {
  "kernelspec": {
   "display_name": "Python 3",
   "language": "python",
   "name": "python3"
  },
  "language_info": {
   "codemirror_mode": {
    "name": "ipython",
    "version": 3
   },
   "file_extension": ".py",
   "mimetype": "text/x-python",
   "name": "python",
   "nbconvert_exporter": "python",
   "pygments_lexer": "ipython3",
   "version": "3.8.2"
  }
 },
 "nbformat": 4,
 "nbformat_minor": 5
}
