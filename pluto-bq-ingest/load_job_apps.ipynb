{
 "cells": [
  {
   "cell_type": "code",
   "execution_count": 1,
   "id": "7be97dd0",
   "metadata": {},
   "outputs": [],
   "source": [
    "import pandas as pd\n",
    "import requests\n",
    "import os\n",
    "from google.cloud import storage\n",
    "from google.cloud import bigquery"
   ]
  },
  {
   "cell_type": "code",
   "execution_count": 2,
   "id": "8af2ac1c",
   "metadata": {},
   "outputs": [],
   "source": [
    "os.environ[\"GOOGLE_APPLICATION_CREDENTIALS\"] = 'secret.json'"
   ]
  },
  {
   "cell_type": "code",
   "execution_count": 3,
   "id": "4ed0296c",
   "metadata": {
    "tags": []
   },
   "outputs": [],
   "source": [
    "client = storage.Client()\n",
    "bucket = client.get_bucket('raw-pluto')\n",
    "bq_client = bigquery.Client()"
   ]
  },
  {
   "cell_type": "markdown",
   "id": "edb945ca",
   "metadata": {},
   "source": [
    "[API Docs](https://dev.socrata.com/foundry/data.cityofnewyork.us/ic3t-wcy2)  \n",
    "[OpenData](https://data.cityofnewyork.us/Housing-Development/DOB-Job-Application-Filings/ic3t-wcy2)  \n",
    "[Metadata](https://docs.google.com/spreadsheets/d/1TGe-YvR-rqV3sTm2DVl9icoiypo3ug-GDdP1ULdo1_s/edit#gid=169410431)"
   ]
  },
  {
   "cell_type": "code",
   "execution_count": 4,
   "id": "275bfd17",
   "metadata": {},
   "outputs": [],
   "source": [
    "cols=[\n",
    "'job__',\n",
    "'doc__',\n",
    "'bin__',\n",
    "'borough',\n",
    "'block',\n",
    "'lot',\n",
    "'latest_action_date',\n",
    "'pre__filing_date',\n",
    "'job_type',\n",
    "'job_status',\n",
    "'initial_cost',\n",
    "'building_class',\n",
    "'existing_occupancy',\n",
    "'proposed_occupancy',\n",
    "'existing_dwelling_units',\n",
    "'proposed_dwelling_units',\n",
    "'existingno_of_stories',\n",
    "'proposed_no_of_stories',\n",
    "'job_status_descrp'\n",
    "]\n",
    "\n",
    "col_string=','.join(cols)"
   ]
  },
  {
   "cell_type": "code",
   "execution_count": 5,
   "id": "357d63d5",
   "metadata": {},
   "outputs": [],
   "source": [
    "JOB_APPLICATIONS='https://data.cityofnewyork.us/resource/ic3t-wcy2.json?$'\n",
    "LIMIT=10**8\n",
    "SELECT='*'"
   ]
  },
  {
   "cell_type": "code",
   "execution_count": 6,
   "id": "30935816",
   "metadata": {},
   "outputs": [],
   "source": [
    "get_request=f'{JOB_APPLICATIONS}limit={LIMIT}&$select={col_string}'\n",
    "\n",
    "d=requests.get(get_request).json()"
   ]
  },
  {
   "cell_type": "code",
   "execution_count": 7,
   "id": "7780aece",
   "metadata": {},
   "outputs": [],
   "source": [
    "d2=pd.DataFrame(d)"
   ]
  },
  {
   "cell_type": "code",
   "execution_count": 8,
   "id": "a69375a0",
   "metadata": {},
   "outputs": [],
   "source": [
    "table_id='pluto-panel.raw_pluto.raw_job_applications'\n",
    "\n",
    "job_config = bigquery.LoadJobConfig(\n",
    "        autodetect=True,\n",
    "        write_disposition='WRITE_TRUNCATE'\n",
    "\n",
    "        )"
   ]
  },
  {
   "cell_type": "code",
   "execution_count": 9,
   "id": "705d545e",
   "metadata": {},
   "outputs": [
    {
     "data": {
      "text/plain": [
       "<google.cloud.bigquery.job.load.LoadJob at 0x7ff9484c5fa0>"
      ]
     },
     "execution_count": 9,
     "metadata": {},
     "output_type": "execute_result"
    }
   ],
   "source": [
    "job = bq_client.load_table_from_dataframe(\n",
    "    d2, table_id, job_config=job_config\n",
    ")  # Make an API request.\n",
    "job.result()  # Wait for the job to complete."
   ]
  },
  {
   "cell_type": "code",
   "execution_count": 10,
   "id": "fb11bcd4",
   "metadata": {},
   "outputs": [
    {
     "name": "stdout",
     "output_type": "stream",
     "text": [
      "Loaded 1772967 rows and 19 columns to pluto-panel.raw_pluto.raw_job_applications\n"
     ]
    }
   ],
   "source": [
    "table = bq_client.get_table(table_id)  # Make an API request.\n",
    "print(\n",
    "    \"Loaded {} rows and {} columns to {}\".format(\n",
    "        table.num_rows, len(table.schema), table_id\n",
    "    )\n",
    ")"
   ]
  },
  {
   "cell_type": "markdown",
   "id": "38372223",
   "metadata": {},
   "source": [
    "## DOB NOW permits\n",
    "[OpenData](https://data.cityofnewyork.us/Housing-Development/DOB-NOW-Build-Job-Application-Filings/w9ak-ipjd)  \n",
    "[API Docs](https://dev.socrata.com/foundry/data.cityofnewyork.us/bty7-2jhb)\n"
   ]
  },
  {
   "cell_type": "code",
   "execution_count": null,
   "id": "ecef0a57",
   "metadata": {},
   "outputs": [],
   "source": [
    "d2.yr=d2.latest_action_date.str.split('/', expand = True)[2]"
   ]
  },
  {
   "cell_type": "code",
   "execution_count": null,
   "id": "016c98c1",
   "metadata": {},
   "outputs": [],
   "source": [
    "NOW_APPLICATIONS='https://data.cityofnewyork.us/resource/w9ak-ipjd.json?$'"
   ]
  },
  {
   "cell_type": "code",
   "execution_count": null,
   "id": "b89b86d0",
   "metadata": {},
   "outputs": [],
   "source": [
    "resp=requests.get(NOW_APPLICATIONS)\n",
    "d=resp.json()"
   ]
  },
  {
   "cell_type": "code",
   "execution_count": null,
   "id": "c405ef33",
   "metadata": {},
   "outputs": [],
   "source": [
    "df=pd.DataFrame(d)"
   ]
  },
  {
   "cell_type": "code",
   "execution_count": null,
   "id": "682ad42c",
   "metadata": {},
   "outputs": [],
   "source": [
    "# for c in df.columns:\n",
    "#     print(c)"
   ]
  },
  {
   "cell_type": "code",
   "execution_count": null,
   "id": "f3695e7d",
   "metadata": {},
   "outputs": [],
   "source": [
    "hist_cols=[\n",
    "    'job_filing_number',\n",
    "    'filing_status',\n",
    "    'borough',\n",
    "    'block',\n",
    "    'lot',\n",
    "    'bin',\n",
    "    'initial_cost',\n",
    "    'building_type',\n",
    "    'existing_dwelling_units',\n",
    "    'proposed_dwelling_units',\n",
    "    'job_type',\n",
    "    'existing_stories',\n",
    "    'proposed_no_of_stories',\n",
    "    'existing_height',\n",
    "    'proposed_height',\n",
    "    'filing_date',\n",
    "    'current_status_date'\n",
    "    \n",
    "]\n",
    "hist_colstring=','.join(hist_cols)"
   ]
  },
  {
   "cell_type": "code",
   "execution_count": null,
   "id": "771f097d",
   "metadata": {},
   "outputs": [],
   "source": [
    "get_request=f'{NOW_APPLICATIONS}limit={LIMIT}&$select={hist_colstring}'\n",
    "\n",
    "\n",
    "now=requests.get(get_request).json()"
   ]
  },
  {
   "cell_type": "code",
   "execution_count": null,
   "id": "6252ee04",
   "metadata": {},
   "outputs": [],
   "source": [
    "df=pd.DataFrame(now)"
   ]
  },
  {
   "cell_type": "code",
   "execution_count": null,
   "id": "aed2e0d8",
   "metadata": {},
   "outputs": [],
   "source": [
    "table_id='pluto-panel.raw_pluto.raw_job_now_applications'\n",
    "\n",
    "job_config = bigquery.LoadJobConfig(\n",
    "        autodetect=True,\n",
    "        write_disposition='WRITE_TRUNCATE'\n",
    "\n",
    "        )"
   ]
  },
  {
   "cell_type": "code",
   "execution_count": null,
   "id": "d0257fdb",
   "metadata": {},
   "outputs": [],
   "source": [
    "job = bq_client.load_table_from_dataframe(\n",
    "    df, table_id, job_config=job_config\n",
    ")  # Make an API request.\n",
    "job.result()  # Wait for the job to complete."
   ]
  },
  {
   "cell_type": "code",
   "execution_count": null,
   "id": "5ce966fa",
   "metadata": {},
   "outputs": [],
   "source": [
    "table = bq_client.get_table(table_id)  # Make an API request.\n",
    "print(\n",
    "    \"Loaded {} rows and {} columns to {}\".format(\n",
    "        table.num_rows, len(table.schema), table_id\n",
    "    )\n",
    ")"
   ]
  },
  {
   "cell_type": "code",
   "execution_count": null,
   "id": "0aac8a6c",
   "metadata": {},
   "outputs": [],
   "source": []
  }
 ],
 "metadata": {
  "kernelspec": {
   "display_name": "Python 3",
   "language": "python",
   "name": "python3"
  },
  "language_info": {
   "codemirror_mode": {
    "name": "ipython",
    "version": 3
   },
   "file_extension": ".py",
   "mimetype": "text/x-python",
   "name": "python",
   "nbconvert_exporter": "python",
   "pygments_lexer": "ipython3",
   "version": "3.8.2"
  }
 },
 "nbformat": 4,
 "nbformat_minor": 5
}
