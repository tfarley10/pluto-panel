{
 "cells": [
  {
   "cell_type": "code",
   "execution_count": 10,
   "id": "1c2fc1aa",
   "metadata": {},
   "outputs": [],
   "source": [
    "import pandas as pd\n",
    "import os\n",
    "import pluto_parquet as pp\n",
    "from zips import unzip_to_temp\n",
    "from shutil import rmtree\n",
    "from functools import partial\n",
    "import warnings\n",
    "from google.cloud import storage\n",
    "import tempfile\n",
    "import logging\n",
    "from logging.config import fileConfig\n",
    "from utils import cpu_use\n",
    "import fiona\n",
    "import geopandas as gpd"
   ]
  },
  {
   "cell_type": "code",
   "execution_count": 5,
   "id": "45feb0f6",
   "metadata": {},
   "outputs": [],
   "source": [
    "warnings.filterwarnings('ignore', message='.*initial implementation of Parquet.*')\n",
    "os.environ[\"GOOGLE_APPLICATION_CREDENTIALS\"] = 'secret.json'"
   ]
  },
  {
   "cell_type": "code",
   "execution_count": 6,
   "id": "723d7a65",
   "metadata": {},
   "outputs": [],
   "source": [
    "log_file='extract_load.log'\n",
    "log_path=os.path.join('logs', log_file)\n",
    "\n",
    "loginipath='logs/logging_config.ini'\n",
    "fileConfig(loginipath, defaults={'logfilename': log_path})\n",
    "logger = logging.getLogger('sLogger')"
   ]
  },
  {
   "cell_type": "code",
   "execution_count": 7,
   "id": "c53d94da",
   "metadata": {},
   "outputs": [],
   "source": [
    "client = storage.Client()\n",
    "bucket = client.bucket('raw-pluto')"
   ]
  },
  {
   "cell_type": "code",
   "execution_count": 8,
   "id": "895fb68f",
   "metadata": {},
   "outputs": [],
   "source": [
    "zip_links=pd.read_csv(\"data/zip_links.csv\").iloc[-1:]"
   ]
  },
  {
   "cell_type": "code",
   "execution_count": 7,
   "id": "f6b0dfd4",
   "metadata": {
    "tags": []
   },
   "outputs": [
    {
     "name": "stdout",
     "output_type": "stream",
     "text": [
      "INFO - Downloading ZIPFile https://www1.nyc.gov/assets/planning/download/zip/data-maps/open-data/nyc_mappluto_21v1_arc_shp.zip\n",
      "INFO - Unzipping https://www1.nyc.gov/assets/planning/download/zip/data-maps/open-data/nyc_mappluto_21v1_arc_shp.zip\n"
     ]
    }
   ],
   "source": [
    "for _, row in zip_links.iterrows():\n",
    "    \n",
    "    pluto_year=str(row.year)\n",
    "    zip_path=row.path\n",
    "    \n",
    "    tmp_dir=unzip_to_temp(zip_path)\n",
    "    paths=pp.filter_valid_pluto(tmp_dir)\n",
    "    \n",
    "    "
   ]
  },
  {
   "cell_type": "code",
   "execution_count": null,
   "id": "55513be3",
   "metadata": {},
   "outputs": [],
   "source": [
    "world = gpd.read_file(gpd.datasets.get_path('naturalearth_lowres'))"
   ]
  },
  {
   "cell_type": "code",
   "execution_count": null,
   "id": "de66e394",
   "metadata": {
    "tags": []
   },
   "outputs": [],
   "source": [
    "    root_paths=[p for p in paths]\n",
    "    \n",
    "    aggregate_year = partial(pp.agg_from_path, year=pluto_year)\n",
    "    gdf_list=list(map(aggregate_year, root_paths))\n",
    "    \n",
    "    logger.info(f'{cpu_use()} aggregating files: {len(gdf_list)} from year: {pluto_year}')\n",
    "    df=pd.concat(gdf_list)\n",
    "    del gdf_list\n",
    "    logger.info(cpu_use())\n",
    "    \n",
    "    \n",
    "    rmtree(tmp_dir)\n",
    "    \n",
    "    logger.info(f'{cpu_use()} cleaning temporary directory')\n",
    "    \n",
    "    with tempfile.NamedTemporaryFile() as fp:\n",
    "        logger.info(f'{cpu_use()} aggregating files: writing aggregated file to tempfile')\n",
    "        df.to_parquet(fp)\n",
    "        data_shape=df.shape\n",
    "        del df\n",
    "        logger.info(f'{cpu_use()} deleted in memory dataframe')\n",
    "        blob_name=f'pluto_{pluto_year}.parquet'\n",
    "        logger.info(f'making blob: {blob_name}')\n",
    "        blob=bucket.blob(blob_name)\n",
    "        blob.upload_from_filename(fp.name)\n",
    "        logger.info(f'succesfully loaded df with rows: {data_shape[0]} and columns: {data_shape[1]} to file: {blob_name}')"
   ]
  },
  {
   "cell_type": "code",
   "execution_count": null,
   "id": "3bd1d63d",
   "metadata": {},
   "outputs": [],
   "source": [
    "paths"
   ]
  },
  {
   "cell_type": "code",
   "execution_count": null,
   "id": "c1e0ebf7",
   "metadata": {},
   "outputs": [],
   "source": []
  }
 ],
 "metadata": {
  "kernelspec": {
   "display_name": "Python 3",
   "language": "python",
   "name": "python3"
  },
  "language_info": {
   "codemirror_mode": {
    "name": "ipython",
    "version": 3
   },
   "file_extension": ".py",
   "mimetype": "text/x-python",
   "name": "python",
   "nbconvert_exporter": "python",
   "pygments_lexer": "ipython3",
   "version": "3.8.9"
  }
 },
 "nbformat": 4,
 "nbformat_minor": 5
}
