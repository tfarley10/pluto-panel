{
 "cells": [
  {
   "cell_type": "code",
   "execution_count": 1,
   "id": "6eaa1ffe",
   "metadata": {},
   "outputs": [],
   "source": [
    "# https://cloud.google.com/bigquery/docs/loading-data-cloud-storage-parquet\n",
    "from google.cloud import storage\n",
    "from google.cloud import bigquery\n",
    "import etc.secret\n",
    "from google.cloud.exceptions import NotFound"
   ]
  },
  {
   "cell_type": "code",
   "execution_count": 2,
   "id": "2619562b",
   "metadata": {},
   "outputs": [],
   "source": [
    "storage_client = storage.Client()\n",
    "bq_client = bigquery.Client()\n",
    "\n",
    "\n",
    "pluto_bucket = 'pluto-parquet'\n",
    "blobs = storage_client.list_blobs(pluto_bucket)\n",
    "pluto_blob = [blob.name for blob in blobs]"
   ]
  },
  {
   "cell_type": "code",
   "execution_count": 9,
   "id": "6500de81",
   "metadata": {},
   "outputs": [],
   "source": [
    "table_id = ['pluto-panel.raw_pluto.' + x.replace('.parquet', '') for x in pluto_blob]\n",
    "uri = ['gs://pluto-parquet/'+ x for x in pluto_blob]\n",
    "storage_bq_map = dict(zip(uri, table_id))"
   ]
  },
  {
   "cell_type": "code",
   "execution_count": 11,
   "id": "0bae2378",
   "metadata": {},
   "outputs": [],
   "source": [
    "def load_from_uri(uri, table_id):\n",
    "    job_config = bigquery.LoadJobConfig(\n",
    "        autodetect=True,\n",
    "        source_format=bigquery.SourceFormat.PARQUET)\n",
    "\n",
    "    try:\n",
    "        bq_client.get_table(table_id)\n",
    "        print(f\"table {table_id} already exists\")\n",
    "    except NotFound:\n",
    "        load_job = bq_client.load_table_from_uri(\n",
    "            uri, table_id, job_config=job_config)  # Make an API request.\n",
    "        load_job.result()  # Waits for the job to complete.\n",
    "        destination_table = bq_client.get_table(table_id)\n",
    "        print(f\"Loaded {destination_table.num_rows} rows to {table_id}.\")"
   ]
  },
  {
   "cell_type": "code",
   "execution_count": 12,
   "id": "66012c1b",
   "metadata": {},
   "outputs": [
    {
     "name": "stdout",
     "output_type": "stream",
     "text": [
      "Loaded 848338 rows to pluto-panel.raw_pluto.pluto_2002.\n",
      "Loaded 847153 rows to pluto-panel.raw_pluto.pluto_2003.\n",
      "Loaded 849330 rows to pluto-panel.raw_pluto.pluto_2004.\n",
      "Loaded 854858 rows to pluto-panel.raw_pluto.pluto_2005.\n",
      "Loaded 852982 rows to pluto-panel.raw_pluto.pluto_2006.\n",
      "Loaded 855099 rows to pluto-panel.raw_pluto.pluto_2007.\n",
      "Loaded 856787 rows to pluto-panel.raw_pluto.pluto_2008.\n",
      "Loaded 859134 rows to pluto-panel.raw_pluto.pluto_2009.\n",
      "Loaded 859146 rows to pluto-panel.raw_pluto.pluto_2010.\n",
      "Loaded 858968 rows to pluto-panel.raw_pluto.pluto_2011.\n",
      "Loaded 857964 rows to pluto-panel.raw_pluto.pluto_2012.\n",
      "Loaded 857991 rows to pluto-panel.raw_pluto.pluto_2013.\n",
      "Loaded 857513 rows to pluto-panel.raw_pluto.pluto_2014.\n",
      "Loaded 857458 rows to pluto-panel.raw_pluto.pluto_2015.\n",
      "Loaded 857216 rows to pluto-panel.raw_pluto.pluto_2016.\n",
      "Loaded 857271 rows to pluto-panel.raw_pluto.pluto_2017.\n",
      "Loaded 857374 rows to pluto-panel.raw_pluto.pluto_2018.\n",
      "Loaded 857298 rows to pluto-panel.raw_pluto.pluto_2019.\n",
      "Loaded 857211 rows to pluto-panel.raw_pluto.pluto_2020.\n"
     ]
    }
   ],
   "source": [
    "for uri, table in storage_bq_map.items():\n",
    "    load_from_uri(uri = uri, table_id = table)"
   ]
  },
  {
   "cell_type": "code",
   "execution_count": null,
   "id": "da1f3d3a",
   "metadata": {},
   "outputs": [],
   "source": []
  }
 ],
 "metadata": {
  "kernelspec": {
   "display_name": "Python 3",
   "language": "python",
   "name": "python3"
  },
  "language_info": {
   "codemirror_mode": {
    "name": "ipython",
    "version": 3
   },
   "file_extension": ".py",
   "mimetype": "text/x-python",
   "name": "python",
   "nbconvert_exporter": "python",
   "pygments_lexer": "ipython3",
   "version": "3.8.2"
  }
 },
 "nbformat": 4,
 "nbformat_minor": 5
}
