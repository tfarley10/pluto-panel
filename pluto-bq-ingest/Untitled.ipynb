{
 "cells": [
  {
   "cell_type": "code",
   "execution_count": 8,
   "id": "35bf5b15",
   "metadata": {},
   "outputs": [],
   "source": [
    "import httplib2\n",
    "from bs4 import BeautifulSoup, SoupStrainer\n",
    "import re\n",
    "import pandas as pd\n",
    "import os"
   ]
  },
  {
   "cell_type": "code",
   "execution_count": 12,
   "id": "25ed1248",
   "metadata": {},
   "outputs": [],
   "source": [
    "import requests\n",
    "import urllib"
   ]
  },
  {
   "cell_type": "code",
   "execution_count": null,
   "id": "1056dd88",
   "metadata": {},
   "outputs": [],
   "source": [
    "urllib.urljoin()"
   ]
  },
  {
   "cell_type": "code",
   "execution_count": 11,
   "id": "64b9f7fb",
   "metadata": {},
   "outputs": [],
   "source": [
    "\"\"\"\n",
    "This creates zip_links.csv which scrapes all MapPluto links from \n",
    "BytesofBigApple Archives then filters for the most recent version from \n",
    "each MapPluto release\n",
    "\"\"\"\n",
    "\n",
    "SESSION = requests.session()\n"
   ]
  },
  {
   "cell_type": "code",
   "execution_count": 28,
   "id": "f403ef01",
   "metadata": {},
   "outputs": [],
   "source": [
    "# make request, parse links\n",
    "archive_link = 'https://a836-pts-access.nyc.gov/care/datalets/datalet.aspx?mode=nopv&UseSearch=no&pin=1010301082&jur=65&taxyr=2020&LMparent=20'\n",
    "# link_resp = SESSION.get(link_url, headers={'Referer': list_url})\n",
    "h = httplib2.Http()\n",
    "status, response = h.request(archive_link)\n",
    "a_tags = BeautifulSoup(response, 'html.parser', parse_only=SoupStrainer('a'))\n",
    "links = [link['href'] for link in a_tags if link.has_attr('href')]"
   ]
  },
  {
   "cell_type": "code",
   "execution_count": 29,
   "id": "f9311ae8",
   "metadata": {},
   "outputs": [
    {
     "data": {
      "text/plain": [
       "['http://www1.nyc.gov/site/finance/index.page',\n",
       " \"javascript:showHelp('')\",\n",
       " '../forms/externallink.aspx?mode=http://www1.nyc.gov/site/finance/index.page',\n",
       " '../search/commonsearch.aspx?mode=address',\n",
       " '../forms/externallink.aspx?mode=https://www1.nyc.gov/site/finance/benefits/property-related-benefits.page',\n",
       " '../forms/externallink.aspx?mode=http://www1.nyc.gov/site/finance/about/contact-us.page',\n",
       " '../search/commonsearch.aspx?mode=address',\n",
       " '../search/commonsearch.aspx?mode=persprop',\n",
       " '../search/commonsearch.aspx?mode=realprop',\n",
       " '../datalets/datalet.aspx?mode=profileall2&UseSearch=no&pin=1010301082&jur=65&taxyr=2020&LMparent=20',\n",
       " '../datalets/datalet_input.aspx?mode=account_balance&UseSearch=no&pin=1010301082&jur=65&taxyr=2020&LMparent=20',\n",
       " '../datalets/datalet.aspx?mode=acc_hist_summ&UseSearch=no&pin=1010301082&jur=65&taxyr=2020&LMparent=20',\n",
       " '../datalets/datalet.aspx?mode=pa_pymts_hist&UseSearch=no&pin=1010301082&jur=65&taxyr=2020&LMparent=20',\n",
       " '../datalets/datalet.aspx?mode=pa_ref_hist&UseSearch=no&pin=1010301082&jur=65&taxyr=2020&LMparent=20',\n",
       " '../datalets/datalet.aspx?mode=nopv&UseSearch=no&pin=1010301082&jur=65&taxyr=2020&LMparent=20',\n",
       " '../datalets/datalet.aspx?mode=soa_docs&UseSearch=no&pin=1010301082&jur=65&taxyr=2020&LMparent=20',\n",
       " '../datalets/datalet.aspx?mode=benefits_pers&UseSearch=no&pin=1010301082&jur=65&taxyr=2020&LMparent=20',\n",
       " '../datalets/datalet.aspx?mode=benefits_comm&UseSearch=no&pin=1010301082&jur=65&taxyr=2020&LMparent=20',\n",
       " '../datalets/datalet.aspx?mode=benefits_gov_nonprofit&UseSearch=no&pin=1010301082&jur=65&taxyr=2020&LMparent=20',\n",
       " '../datalets/datalet.aspx?mode=asmt_parent&UseSearch=no&pin=1010301082&jur=65&taxyr=2020&LMparent=20',\n",
       " '../datalets/datalet.aspx?mode=asmt_fin_2022&UseSearch=no&pin=1010301082&jur=65&taxyr=2020&LMparent=20',\n",
       " '../datalets/datalet.aspx?mode=asmt_tent_2022&UseSearch=no&pin=1010301082&jur=65&taxyr=2020&LMparent=20',\n",
       " '../datalets/datalet.aspx?mode=asmt_fin_2021&UseSearch=no&pin=1010301082&jur=65&taxyr=2020&LMparent=20',\n",
       " '../datalets/datalet.aspx?mode=asmt_tent_2021&UseSearch=no&pin=1010301082&jur=65&taxyr=2020&LMparent=20',\n",
       " '../datalets/datalet.aspx?mode=asmt_fin_2020&UseSearch=no&pin=1010301082&jur=65&taxyr=2020&LMparent=20',\n",
       " '../datalets/datalet.aspx?mode=asmt_hist&UseSearch=no&pin=1010301082&jur=65&taxyr=2020&LMparent=20',\n",
       " 'http://nyc.gov/assessments',\n",
       " 'http://nyc.gov/html/taxcomm',\n",
       " 'https://a836-edms.nyc.gov/dctm-rest/repositories/dofedmspts/StatementSearch?bbl=1010301082&stmtDate=20210115&stmtType=NPV',\n",
       " 'https://a836-edms.nyc.gov/dctm-rest/repositories/dofedmspts/StatementSearch?bbl=1010301082&stmtDate=20200115&stmtType=NPV',\n",
       " 'https://a836-mspuvw-dofptsz.nyc.gov/PTSCM/StatementSearch?bbl=1010301082&stmtDate=20190115&stmtType=NPV',\n",
       " \"javascript:PrintDatalet('all')\",\n",
       " 'javascript:PrintDatalet()',\n",
       " 'http://www1.nyc.gov/site/finance/taxes/pts-faq.page',\n",
       " 'https://www1.nyc.gov/nyc-resources/agencies.page',\n",
       " 'https://a858-nycnotify.nyc.gov/notifynyc/',\n",
       " 'https://www1.nyc.gov/connect/mobile-applications.page',\n",
       " 'https://www1.nyc.gov/home/contact-us.page',\n",
       " 'https://a856-citystore.nyc.gov/',\n",
       " 'https://www1.nyc.gov/nyc-resources/nyc-maps.page',\n",
       " 'https://a127-ess.nyc.gov/psp/prdess/?cmd=login&languageCd=ENG&',\n",
       " 'https://www1.nyc.gov/connect/social-media.page',\n",
       " 'https://www1.nyc.gov/nyc-resources/resident-toolkit.page',\n",
       " 'https://www1.nyc.gov/home/privacy-policy.page',\n",
       " 'https://www1.nyc.gov/home/terms-of-use.page',\n",
       " 'https://www1.nyc.gov/site/mopd/index.page']"
      ]
     },
     "execution_count": 29,
     "metadata": {},
     "output_type": "execute_result"
    }
   ],
   "source": [
    "links"
   ]
  },
  {
   "cell_type": "code",
   "execution_count": null,
   "id": "b27fd927",
   "metadata": {},
   "outputs": [],
   "source": []
  }
 ],
 "metadata": {
  "kernelspec": {
   "display_name": "Python 3",
   "language": "python",
   "name": "python3"
  },
  "language_info": {
   "codemirror_mode": {
    "name": "ipython",
    "version": 3
   },
   "file_extension": ".py",
   "mimetype": "text/x-python",
   "name": "python",
   "nbconvert_exporter": "python",
   "pygments_lexer": "ipython3",
   "version": "3.8.2"
  }
 },
 "nbformat": 4,
 "nbformat_minor": 5
}
