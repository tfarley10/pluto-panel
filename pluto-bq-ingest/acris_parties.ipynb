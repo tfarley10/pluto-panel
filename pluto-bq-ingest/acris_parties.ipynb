{
 "cells": [
  {
   "cell_type": "code",
   "execution_count": 1,
   "id": "3901718f",
   "metadata": {},
   "outputs": [],
   "source": [
    "import pandas as pd\n",
    "import requests\n",
    "import os\n",
    "from google.cloud import bigquery"
   ]
  },
  {
   "cell_type": "code",
   "execution_count": 2,
   "id": "524d09a1",
   "metadata": {},
   "outputs": [],
   "source": [
    "os.environ[\"GOOGLE_APPLICATION_CREDENTIALS\"] = 'secret.json'\n",
    "\n",
    "bq_client = bigquery.Client()"
   ]
  },
  {
   "cell_type": "markdown",
   "id": "5ca4bee6",
   "metadata": {},
   "source": [
    "[parties](https://data.cityofnewyork.us/City-Government/ACRIS-Real-Property-Parties/636b-3b5g)"
   ]
  },
  {
   "cell_type": "code",
   "execution_count": 3,
   "id": "017c7c60",
   "metadata": {},
   "outputs": [],
   "source": [
    "\n",
    "ACRIS=f'https://data.cityofnewyork.us/resource/636b-3b5g.json?$'"
   ]
  },
  {
   "cell_type": "code",
   "execution_count": 6,
   "id": "afc76d7f",
   "metadata": {},
   "outputs": [],
   "source": [
    "acris_count=f'https://data.cityofnewyork.us/resource/636b-3b5g.json?$select=count(1) as cnt'\n",
    "cnt_req=requests.get(acris_count).json()\n",
    "nrows=int(cnt_req[0]['cnt'])"
   ]
  },
  {
   "cell_type": "code",
   "execution_count": 7,
   "id": "65950873",
   "metadata": {},
   "outputs": [
    {
     "data": {
      "text/plain": [
       "42227126"
      ]
     },
     "execution_count": 7,
     "metadata": {},
     "output_type": "execute_result"
    }
   ],
   "source": [
    "nrows"
   ]
  },
  {
   "cell_type": "code",
   "execution_count": 8,
   "id": "ddfe668e",
   "metadata": {},
   "outputs": [],
   "source": [
    "limit=10**6\n",
    "offset=0\n",
    "\n",
    "offs=list(range(0, nrows, limit))\n",
    "\n",
    "reqs=[f'{ACRIS}limit={limit}&$offset={o}&$order=good_through_date DESC' for o in offs]"
   ]
  },
  {
   "cell_type": "code",
   "execution_count": 9,
   "id": "5452ec6e",
   "metadata": {},
   "outputs": [],
   "source": [
    "table_id='pluto-panel.real_estate.raw_acris_parties'\n",
    "\n",
    "job_config = bigquery.LoadJobConfig(\n",
    "        autodetect=True,\n",
    "        write_disposition='WRITE_APPEND'\n",
    "\n",
    "        )"
   ]
  },
  {
   "cell_type": "code",
   "execution_count": 15,
   "id": "6fc1b81a",
   "metadata": {},
   "outputs": [
    {
     "name": "stdout",
     "output_type": "stream",
     "text": [
      "reading 1 / 43: https://data.cityofnewyork.us/resource/636b-3b5g.json?$limit=1000000&$offset=34000000&$order=good_through_date DESC\n",
      "making dataframe\n",
      "loading to bigquery\n",
      "reading 2 / 43: https://data.cityofnewyork.us/resource/636b-3b5g.json?$limit=1000000&$offset=35000000&$order=good_through_date DESC\n",
      "making dataframe\n",
      "loading to bigquery\n",
      "reading 3 / 43: https://data.cityofnewyork.us/resource/636b-3b5g.json?$limit=1000000&$offset=36000000&$order=good_through_date DESC\n",
      "making dataframe\n",
      "loading to bigquery\n",
      "reading 4 / 43: https://data.cityofnewyork.us/resource/636b-3b5g.json?$limit=1000000&$offset=37000000&$order=good_through_date DESC\n",
      "making dataframe\n",
      "loading to bigquery\n",
      "reading 5 / 43: https://data.cityofnewyork.us/resource/636b-3b5g.json?$limit=1000000&$offset=38000000&$order=good_through_date DESC\n",
      "making dataframe\n",
      "loading to bigquery\n",
      "reading 6 / 43: https://data.cityofnewyork.us/resource/636b-3b5g.json?$limit=1000000&$offset=39000000&$order=good_through_date DESC\n",
      "making dataframe\n",
      "loading to bigquery\n",
      "reading 7 / 43: https://data.cityofnewyork.us/resource/636b-3b5g.json?$limit=1000000&$offset=40000000&$order=good_through_date DESC\n",
      "making dataframe\n",
      "loading to bigquery\n",
      "reading 8 / 43: https://data.cityofnewyork.us/resource/636b-3b5g.json?$limit=1000000&$offset=41000000&$order=good_through_date DESC\n",
      "making dataframe\n",
      "loading to bigquery\n",
      "reading 9 / 43: https://data.cityofnewyork.us/resource/636b-3b5g.json?$limit=1000000&$offset=42000000&$order=good_through_date DESC\n",
      "making dataframe\n",
      "loading to bigquery\n"
     ]
    }
   ],
   "source": [
    "prog=1\n",
    "for r in reqs[34:]:\n",
    "    print(f'reading {prog} / {len(reqs)}: {r}')\n",
    "    d=requests.get(r).json()\n",
    "    print('making dataframe')\n",
    "    d2=pd.DataFrame(d)\n",
    "    print('loading to bigquery')\n",
    "    job = bq_client.load_table_from_dataframe(\n",
    "            d2, table_id, job_config=job_config)\n",
    "    job.result()\n",
    "    prog+=1\n",
    "    \n",
    "    "
   ]
  },
  {
   "cell_type": "code",
   "execution_count": 16,
   "id": "3227a72d",
   "metadata": {},
   "outputs": [
    {
     "name": "stdout",
     "output_type": "stream",
     "text": [
      "Loaded 42227126 rows and 11 columns to pluto-panel.real_estate.raw_acris_parties\n"
     ]
    }
   ],
   "source": [
    "table = bq_client.get_table(table_id)  # Make an API request.\n",
    "print(\n",
    "    \"Loaded {} rows and {} columns to {}\".format(\n",
    "        table.num_rows, len(table.schema), table_id\n",
    "    )\n",
    ")"
   ]
  },
  {
   "cell_type": "code",
   "execution_count": null,
   "id": "d0eafcfa",
   "metadata": {},
   "outputs": [],
   "source": []
  }
 ],
 "metadata": {
  "kernelspec": {
   "display_name": "Python 3",
   "language": "python",
   "name": "python3"
  },
  "language_info": {
   "codemirror_mode": {
    "name": "ipython",
    "version": 3
   },
   "file_extension": ".py",
   "mimetype": "text/x-python",
   "name": "python",
   "nbconvert_exporter": "python",
   "pygments_lexer": "ipython3",
   "version": "3.8.2"
  }
 },
 "nbformat": 4,
 "nbformat_minor": 5
}
