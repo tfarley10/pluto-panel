{
 "cells": [
  {
   "cell_type": "code",
   "execution_count": 1,
   "id": "9a64535c",
   "metadata": {},
   "outputs": [],
   "source": [
    "import httplib2\n",
    "from bs4 import BeautifulSoup, SoupStrainer\n",
    "import re\n",
    "import pandas as pd\n",
    "import os\n",
    "import numpy as np\n",
    "from janitor import clean_names\n",
    "from google.cloud import bigquery\n",
    "import pandas_gbq"
   ]
  },
  {
   "cell_type": "code",
   "execution_count": 2,
   "id": "c7f91b1c",
   "metadata": {},
   "outputs": [],
   "source": [
    "archive_link = 'https://www1.nyc.gov/site/finance/taxes/property-annualized-sales-update.page'\n",
    "h = httplib2.Http()\n",
    "status, response = h.request(archive_link)\n",
    "\n",
    "a_tags = BeautifulSoup(response, 'html.parser', parse_only=SoupStrainer('a'))\n",
    "links = [link['href'] for link in a_tags if link.has_attr('href')]"
   ]
  },
  {
   "cell_type": "code",
   "execution_count": 3,
   "id": "42a4f72a",
   "metadata": {},
   "outputs": [],
   "source": [
    "is_excel = lambda x: (x.endswith('xlsx') or x.endswith('xls')) and 'neighborhood' not in x\n",
    "\n",
    "f_names=list(filter(is_excel, links))\n",
    "\n",
    "paths=[\"https://www1.nyc.gov/\" +  f for f in f_names]"
   ]
  },
  {
   "cell_type": "code",
   "execution_count": 4,
   "id": "82f553ce",
   "metadata": {},
   "outputs": [],
   "source": [
    "yr = re.compile('\\d{2,4}(?!pdf)')\n",
    "\n",
    "get_year = lambda x: yr.findall(x)[0]\n",
    "\n",
    "f2=list(map(get_year, f_names))\n",
    "\n",
    "yrs=[int('20' + x) if len(x) == 2 else int(x) for x in f2]\n",
    "u_yrs=np.unique(yrs)"
   ]
  },
  {
   "cell_type": "code",
   "execution_count": 5,
   "id": "c43e9e61",
   "metadata": {},
   "outputs": [],
   "source": [
    "f_dict={}\n",
    "for y in range(min(yrs), max(yrs)+1):\n",
    "    f_list = []\n",
    "    for i in range(0, len(paths)):\n",
    "        if yrs[i] == y:\n",
    "            f_list.append(paths[i])\n",
    "    f_dict[str(y)] = f_list \n",
    "    "
   ]
  },
  {
   "cell_type": "code",
   "execution_count": 6,
   "id": "9da02baf",
   "metadata": {},
   "outputs": [],
   "source": [
    "def clean_excel(file:str)->pd.DataFrame:\n",
    "    d=pd.read_excel(file)\n",
    "    d2=d[~d.iloc[:,1].isnull()]\n",
    "    d2.iloc[0, :].str.replace('\\n', '')\n",
    "    cols=list(d2.iloc[0, :].str.replace('\\n', ' '))\n",
    "    d2.columns = cols\n",
    "    d3=d2.iloc[1:,:].clean_names()\n",
    "    return d3 "
   ]
  },
  {
   "cell_type": "code",
   "execution_count": 7,
   "id": "2d7bba5a",
   "metadata": {},
   "outputs": [],
   "source": [
    "def clean_list(f_list:list)-> pd.DataFrame:\n",
    "    d_list=list(map(clean_excel, f_list))\n",
    "    return pd.concat(d_list).astype(str)"
   ]
  },
  {
   "cell_type": "code",
   "execution_count": 9,
   "id": "f0b3b282",
   "metadata": {},
   "outputs": [],
   "source": [
    "os.environ[\"GOOGLE_APPLICATION_CREDENTIALS\"] = 'secret.json'\n",
    "bq_client = bigquery.Client()\n",
    "project_id='pluto-panel'"
   ]
  },
  {
   "cell_type": "code",
   "execution_count": 10,
   "id": "45f75ff2",
   "metadata": {},
   "outputs": [
    {
     "name": "stdout",
     "output_type": "stream",
     "text": [
      "reading year: 2003\n"
     ]
    },
    {
     "name": "stderr",
     "output_type": "stream",
     "text": [
      "100%|██████████| 1/1 [00:00<00:00, 6754.11it/s]\n"
     ]
    },
    {
     "name": "stdout",
     "output_type": "stream",
     "text": [
      "reading year: 2004\n"
     ]
    },
    {
     "name": "stderr",
     "output_type": "stream",
     "text": [
      "100%|██████████| 1/1 [00:00<00:00, 11275.01it/s]\n"
     ]
    },
    {
     "name": "stdout",
     "output_type": "stream",
     "text": [
      "reading year: 2005\n"
     ]
    },
    {
     "name": "stderr",
     "output_type": "stream",
     "text": [
      "100%|██████████| 1/1 [00:00<00:00, 12228.29it/s]\n"
     ]
    },
    {
     "name": "stdout",
     "output_type": "stream",
     "text": [
      "reading year: 2006\n"
     ]
    },
    {
     "name": "stderr",
     "output_type": "stream",
     "text": [
      "100%|██████████| 1/1 [00:00<00:00, 12157.40it/s]\n"
     ]
    },
    {
     "name": "stdout",
     "output_type": "stream",
     "text": [
      "reading year: 2007\n"
     ]
    },
    {
     "name": "stderr",
     "output_type": "stream",
     "text": [
      "100%|██████████| 1/1 [00:00<00:00, 10180.35it/s]\n"
     ]
    },
    {
     "name": "stdout",
     "output_type": "stream",
     "text": [
      "reading year: 2008\n"
     ]
    },
    {
     "name": "stderr",
     "output_type": "stream",
     "text": [
      "100%|██████████| 1/1 [00:00<00:00, 13530.01it/s]\n"
     ]
    },
    {
     "name": "stdout",
     "output_type": "stream",
     "text": [
      "reading year: 2009\n"
     ]
    },
    {
     "name": "stderr",
     "output_type": "stream",
     "text": [
      "100%|██████████| 1/1 [00:00<00:00, 11618.57it/s]\n"
     ]
    },
    {
     "name": "stdout",
     "output_type": "stream",
     "text": [
      "reading year: 2010\n"
     ]
    },
    {
     "name": "stderr",
     "output_type": "stream",
     "text": [
      "100%|██████████| 1/1 [00:00<00:00, 11781.75it/s]\n"
     ]
    },
    {
     "name": "stdout",
     "output_type": "stream",
     "text": [
      "reading year: 2011\n"
     ]
    },
    {
     "name": "stderr",
     "output_type": "stream",
     "text": [
      "100%|██████████| 1/1 [00:00<00:00, 6668.21it/s]\n"
     ]
    },
    {
     "name": "stdout",
     "output_type": "stream",
     "text": [
      "reading year: 2012\n"
     ]
    },
    {
     "name": "stderr",
     "output_type": "stream",
     "text": [
      "100%|██████████| 1/1 [00:00<00:00, 12018.06it/s]\n"
     ]
    },
    {
     "name": "stdout",
     "output_type": "stream",
     "text": [
      "reading year: 2013\n"
     ]
    },
    {
     "name": "stderr",
     "output_type": "stream",
     "text": [
      "100%|██████████| 1/1 [00:00<00:00, 2029.17it/s]\n"
     ]
    },
    {
     "name": "stdout",
     "output_type": "stream",
     "text": [
      "reading year: 2014\n"
     ]
    },
    {
     "name": "stderr",
     "output_type": "stream",
     "text": [
      "100%|██████████| 1/1 [00:00<00:00, 14513.16it/s]\n"
     ]
    },
    {
     "name": "stdout",
     "output_type": "stream",
     "text": [
      "reading year: 2015\n"
     ]
    },
    {
     "name": "stderr",
     "output_type": "stream",
     "text": [
      "100%|██████████| 1/1 [00:00<00:00, 10754.63it/s]\n"
     ]
    },
    {
     "name": "stdout",
     "output_type": "stream",
     "text": [
      "reading year: 2016\n"
     ]
    },
    {
     "name": "stderr",
     "output_type": "stream",
     "text": [
      "100%|██████████| 1/1 [00:00<00:00, 3701.95it/s]\n"
     ]
    },
    {
     "name": "stdout",
     "output_type": "stream",
     "text": [
      "reading year: 2017\n"
     ]
    },
    {
     "name": "stderr",
     "output_type": "stream",
     "text": [
      "100%|██████████| 1/1 [00:00<00:00, 9000.65it/s]\n"
     ]
    },
    {
     "name": "stdout",
     "output_type": "stream",
     "text": [
      "reading year: 2018\n"
     ]
    },
    {
     "name": "stderr",
     "output_type": "stream",
     "text": [
      "100%|██████████| 1/1 [00:00<00:00, 14463.12it/s]\n"
     ]
    },
    {
     "name": "stdout",
     "output_type": "stream",
     "text": [
      "reading year: 2019\n"
     ]
    },
    {
     "name": "stderr",
     "output_type": "stream",
     "text": [
      "100%|██████████| 1/1 [00:00<00:00, 11214.72it/s]\n"
     ]
    },
    {
     "name": "stdout",
     "output_type": "stream",
     "text": [
      "reading year: 2020\n"
     ]
    },
    {
     "name": "stderr",
     "output_type": "stream",
     "text": [
      "100%|██████████| 1/1 [00:00<00:00, 7410.43it/s]\n"
     ]
    }
   ],
   "source": [
    "for k, v in f_dict.items():\n",
    "    table_id=f'real_estate.{k}_raw'\n",
    "    print(f'reading year: {k}')\n",
    "    d=clean_list(v)\n",
    "    pandas_gbq.to_gbq(d, table_id, project_id=project_id)\n",
    "    "
   ]
  },
  {
   "cell_type": "code",
   "execution_count": null,
   "id": "2a7e35f0",
   "metadata": {},
   "outputs": [],
   "source": []
  }
 ],
 "metadata": {
  "kernelspec": {
   "display_name": "Python 3",
   "language": "python",
   "name": "python3"
  },
  "language_info": {
   "codemirror_mode": {
    "name": "ipython",
    "version": 3
   },
   "file_extension": ".py",
   "mimetype": "text/x-python",
   "name": "python",
   "nbconvert_exporter": "python",
   "pygments_lexer": "ipython3",
   "version": "3.8.2"
  }
 },
 "nbformat": 4,
 "nbformat_minor": 5
}
