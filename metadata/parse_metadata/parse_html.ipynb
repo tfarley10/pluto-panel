{
 "cells": [
  {
   "cell_type": "code",
   "execution_count": 1,
   "id": "3f079512",
   "metadata": {},
   "outputs": [],
   "source": [
    "import codecs\n",
    "from bs4 import BeautifulSoup\n",
    "import os\n",
    "import re\n",
    "import pandas as pd"
   ]
  },
  {
   "cell_type": "code",
   "execution_count": 2,
   "id": "68235a18",
   "metadata": {},
   "outputs": [],
   "source": [
    "def remove_multiple_space(string:str):\n",
    "    \n",
    "    return re.sub('\\n+', '\\n', string)"
   ]
  },
  {
   "cell_type": "code",
   "execution_count": 3,
   "id": "4eacf52e",
   "metadata": {},
   "outputs": [],
   "source": [
    "def pad_list(lst:[], size:int):\n",
    "    new_lst = lst + [''] * (size - len(lst))\n",
    "    return new_lst"
   ]
  },
  {
   "cell_type": "code",
   "execution_count": 4,
   "id": "3339c406",
   "metadata": {},
   "outputs": [],
   "source": [
    "def parse_attribute(att:str):\n",
    "    att2 = att.strip()\n",
    "    sp_2 = 'Attribute Definition:|Attribute Definition Source:|Attribute Domain Values:'\n",
    "    att3 = re.split(sp_2, att2)\n",
    "    att4 = [a.strip() for a in att3]\n",
    "    att5 = pad_list(att4, 4)\n",
    "    return att5\n",
    "    "
   ]
  },
  {
   "cell_type": "code",
   "execution_count": 5,
   "id": "a75ad355",
   "metadata": {},
   "outputs": [],
   "source": [
    "def meta_list(html_string):\n",
    "    attribute_spl = \"Attribute:\\nAttribute Label:\"\n",
    "    atts = re.split(attribute_spl, html_string)\n",
    "    result = [parse_attribute(a) for a in atts]\n",
    "    return result"
   ]
  },
  {
   "cell_type": "code",
   "execution_count": 8,
   "id": "519626a8",
   "metadata": {},
   "outputs": [],
   "source": [
    "def html_to_df(year:int):\n",
    "    file_name = ''\n",
    "    if year == 2002:\n",
    "        file_name = '2002.htm'\n",
    "    else:\n",
    "        file_name = '2003.html'\n",
    "        \n",
    "    m_path = '../raw_metadata'\n",
    "    samp = os.path.join(m_path, file_name)\n",
    "    \n",
    "    with open(samp, 'rb') as fp:\n",
    "        soup = BeautifulSoup(fp, 'html')\n",
    "    \n",
    "    txt = soup.get_text('\\n')\n",
    "    t2 = remove_multiple_space(txt)\n",
    "    l = meta_list(t2)\n",
    "    \n",
    "    cols = ['field_name', 'definition', 'source', 'domain_definitions']\n",
    "    df = pd.DataFrame(l, columns = cols)\n",
    "    df['year'] = year\n",
    "    return df"
   ]
  },
  {
   "cell_type": "code",
   "execution_count": 11,
   "id": "1c3b4f55",
   "metadata": {},
   "outputs": [],
   "source": [
    "metadata_2003_2004=pd.concat(list(map(html_to_df, [2003,2004])))"
   ]
  },
  {
   "cell_type": "code",
   "execution_count": 15,
   "id": "84bfb171",
   "metadata": {},
   "outputs": [
    {
     "data": {
      "text/plain": [
       "<google.cloud.bigquery.job.load.LoadJob at 0x7fc417b778e0>"
      ]
     },
     "execution_count": 15,
     "metadata": {},
     "output_type": "execute_result"
    }
   ],
   "source": [
    "# metadata_2003_2004\n",
    "from google.cloud import storage\n",
    "from google.cloud import bigquery\n",
    "from google.cloud.exceptions import NotFound\n",
    "\n",
    "\n",
    "os.environ[\"GOOGLE_APPLICATION_CREDENTIALS\"] = '../secrets/secret.json'\n",
    "bq_client = bigquery.Client()\n",
    "\n",
    "\n",
    "table_id = \"pluto-panel.raw.metadata_2002_2003\"\n",
    "\n",
    "job = bq_client.load_table_from_dataframe(\n",
    "    metadata_2003_2004, table_id\n",
    ")\n",
    "job.result() "
   ]
  },
  {
   "cell_type": "code",
   "execution_count": null,
   "id": "2599b996",
   "metadata": {},
   "outputs": [],
   "source": []
  }
 ],
 "metadata": {
  "kernelspec": {
   "display_name": "Python 3",
   "language": "python",
   "name": "python3"
  },
  "language_info": {
   "codemirror_mode": {
    "name": "ipython",
    "version": 3
   },
   "file_extension": ".py",
   "mimetype": "text/x-python",
   "name": "python",
   "nbconvert_exporter": "python",
   "pygments_lexer": "ipython3",
   "version": "3.8.2"
  }
 },
 "nbformat": 4,
 "nbformat_minor": 5
}
