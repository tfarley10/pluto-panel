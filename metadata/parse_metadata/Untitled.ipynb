{
 "cells": [
  {
   "cell_type": "code",
   "execution_count": 2,
   "id": "f7119dd5",
   "metadata": {},
   "outputs": [],
   "source": [
    "import os\n",
    "from google.cloud import bigquery\n",
    "\n",
    "\n",
    "os.environ[\"GOOGLE_APPLICATION_CREDENTIALS\"] = '../secrets/secret.json'\n",
    "bq_client = bigquery.Client()\n",
    "\n",
    "\n",
    "# table_id = \"pluto-panel.raw.metadata_2002_2003\"\n",
    "\n",
    "# job = bq_client.load_table_from_dataframe(\n",
    "#     metadata_2003_2004, table_id\n",
    "# )\n",
    "# job.result() "
   ]
  },
  {
   "cell_type": "code",
   "execution_count": 4,
   "id": "e47ac2b6",
   "metadata": {},
   "outputs": [],
   "source": [
    "project=bq_client.project"
   ]
  },
  {
   "cell_type": "code",
   "execution_count": 15,
   "id": "eb46a8e3",
   "metadata": {},
   "outputs": [],
   "source": [
    "orig=[]\n",
    "dest=[]\n",
    "for a in list(bq_client.list_tables(\"raw\")):\n",
    "    orig.append(f'{project}.raw.{a.table_id}')\n",
    "    dest.append(f'{project}.pluto.{a.table_id}')"
   ]
  },
  {
   "cell_type": "code",
   "execution_count": 18,
   "id": "36891de1",
   "metadata": {},
   "outputs": [],
   "source": [
    "for i in range(len(orig)):\n",
    "    job = bq_client.copy_table(orig[i], dest[i])\n",
    "    job.result()  "
   ]
  },
  {
   "cell_type": "code",
   "execution_count": null,
   "id": "273aa0af",
   "metadata": {},
   "outputs": [],
   "source": []
  }
 ],
 "metadata": {
  "kernelspec": {
   "display_name": "Python 3",
   "language": "python",
   "name": "python3"
  },
  "language_info": {
   "codemirror_mode": {
    "name": "ipython",
    "version": 3
   },
   "file_extension": ".py",
   "mimetype": "text/x-python",
   "name": "python",
   "nbconvert_exporter": "python",
   "pygments_lexer": "ipython3",
   "version": "3.8.2"
  }
 },
 "nbformat": 4,
 "nbformat_minor": 5
}
