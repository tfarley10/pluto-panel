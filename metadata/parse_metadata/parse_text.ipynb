{
 "cells": [
  {
   "cell_type": "code",
   "execution_count": 1,
   "id": "bd0d2eaf",
   "metadata": {},
   "outputs": [],
   "source": [
    "import re\n",
    "import os\n",
    "import pandas as pd\n",
    "from typing import Hashable\n",
    "from calendar import month_name"
   ]
  },
  {
   "cell_type": "code",
   "execution_count": 2,
   "id": "f52e454e",
   "metadata": {},
   "outputs": [],
   "source": [
    "def file_to_str(year:int):\n",
    "    path =  f'../metadata_text/{year}_metadata.txt'\n",
    "    try:\n",
    "        \n",
    "        with open(path) as p:\n",
    "        \n",
    "            contents = p.read()\n",
    "        return contents\n",
    "    except:\n",
    "        print(f\"{path} DNE\")"
   ]
  },
  {
   "cell_type": "markdown",
   "id": "07594097",
   "metadata": {},
   "source": [
    "## Clean up initial text file"
   ]
  },
  {
   "cell_type": "code",
   "execution_count": 3,
   "id": "8f0db6cb",
   "metadata": {},
   "outputs": [],
   "source": [
    "def clean_regex(pluto_text:str):\n",
    "    single = '\\n[\\s\\S]\\n'\n",
    "    page_num = '\\n\\d+\\n'\n",
    "    comb = single + '|' + page_num\n",
    "    \n",
    "    try:\n",
    "        return re.sub(comb, '\\n', pluto_text)\n",
    "    except:\n",
    "        print(\"exc\")\n",
    "    "
   ]
  },
  {
   "cell_type": "code",
   "execution_count": 4,
   "id": "308b6a1f",
   "metadata": {},
   "outputs": [],
   "source": [
    "def mk_pluto_headers():\n",
    "    pluto_dd = \"PLUTO.? DATA DICTIONARY\"\n",
    "\n",
    "    header_list = []\n",
    "    for m in list(month_name[1:]):\n",
    "        header_list.append(pluto_dd + \"\\s*\"+ m + \" 200\\d\")\n",
    "        header_list.append( m + \" 200\\d\" + \"\\s*\" + pluto_dd)\n",
    "    \n",
    "    return '|'.join(header_list)"
   ]
  },
  {
   "cell_type": "code",
   "execution_count": 5,
   "id": "a3028a15",
   "metadata": {},
   "outputs": [],
   "source": [
    "HEADS = mk_pluto_headers()"
   ]
  },
  {
   "cell_type": "code",
   "execution_count": 6,
   "id": "7d9875cc",
   "metadata": {},
   "outputs": [],
   "source": [
    "def metadata_list(pluto_string:str):\n",
    "        matches = re.split('Field Name:\\s?', pluto_string)\n",
    "        l = []\n",
    "        for match in matches:\n",
    "            if '. . .' not in match and '...' not in match:\n",
    "                field = re.split('Format:\\s?|Data Source:\\s?|Description:\\s?', match)\n",
    "                for i in range(0, len(field)):\n",
    "                    field[i] = re.sub('\\s$', '', field[i])\n",
    "                    field[i] = re.sub('[\\s\\n]{2,}', ' ', field[i])\n",
    "                    field[i] = re.sub('\\n', '', field[i])\n",
    "                    \n",
    "                l.append(field)\n",
    "        return l"
   ]
  },
  {
   "cell_type": "code",
   "execution_count": 7,
   "id": "db6237e6",
   "metadata": {},
   "outputs": [],
   "source": [
    "def text_to_df(yr):\n",
    "    pluto_text = file_to_str(yr)\n",
    "    txt = clean_regex(pluto_text)\n",
    "    txt = re.sub(HEADS, '\\n', txt)\n",
    "    spl_text = metadata_list(txt)\n",
    "    col_names = ['field_name', 'format', 'source', 'description']\n",
    "    try:\n",
    "        df = pd.DataFrame(spl_text, columns=col_names)\n",
    "        df['year'] = yr\n",
    "        return df\n",
    "    except:\n",
    "        print(f\"there was an issue with {yr}\")\n",
    "    "
   ]
  },
  {
   "cell_type": "code",
   "execution_count": 8,
   "id": "7c7a8351",
   "metadata": {},
   "outputs": [],
   "source": [
    "# text_to_df(2004)\n",
    "l = []\n",
    "\n",
    "for i in range(2004, 2021):\n",
    "    if i != 2008:\n",
    "        l.append(text_to_df(i))"
   ]
  },
  {
   "cell_type": "code",
   "execution_count": 9,
   "id": "fdc0ca88",
   "metadata": {},
   "outputs": [],
   "source": [
    "meta_04_20=pd.concat(l)"
   ]
  },
  {
   "cell_type": "code",
   "execution_count": 10,
   "id": "5fd3234d",
   "metadata": {},
   "outputs": [
    {
     "data": {
      "text/plain": [
       "<google.cloud.bigquery.job.load.LoadJob at 0x7fd7c8ad8760>"
      ]
     },
     "execution_count": 10,
     "metadata": {},
     "output_type": "execute_result"
    }
   ],
   "source": [
    "from google.cloud import storage\n",
    "from google.cloud import bigquery\n",
    "from google.cloud.exceptions import NotFound\n",
    "\n",
    "\n",
    "os.environ[\"GOOGLE_APPLICATION_CREDENTIALS\"] = '../secrets/secret.json'\n",
    "bq_client = bigquery.Client()\n",
    "\n",
    "\n",
    "table_id = \"pluto-panel.raw.metadata_2004_2020\"\n",
    "\n",
    "job = bq_client.load_table_from_dataframe(\n",
    "    meta_04_20, table_id\n",
    ")\n",
    "job.result()  "
   ]
  },
  {
   "cell_type": "code",
   "execution_count": null,
   "id": "642cdb46",
   "metadata": {
    "jupyter": {
     "source_hidden": true
    },
    "tags": []
   },
   "outputs": [],
   "source": [
    "def normalize(col_name: Hashable) -> str:\n",
    "    fixes = [(r\"[ /:,?()\\.-]\", \"_\"), (r\"['’]\", \"\")]\n",
    "    \"\"\"Perform normalization of column name.\"\"\"\n",
    "    result = str(col_name)\n",
    "    for search, replace in fixes:\n",
    "        result = re.sub(search, replace, result)\n",
    "    return result"
   ]
  },
  {
   "cell_type": "code",
   "execution_count": null,
   "id": "a02f2845",
   "metadata": {
    "jupyter": {
     "source_hidden": true
    },
    "tags": []
   },
   "outputs": [],
   "source": [
    "def clean_df(df):\n",
    "    \n",
    "    \n",
    "    split_field = d.field_name.str.split('\\s\\(', expand = True)\n",
    "    \n",
    "    d['friendly_name'] = split_field.iloc[:,0]\n",
    "    d['field_name'] = split_field.iloc[:,1]\\\n",
    "                      .str.replace(')', '', regex = False)\n",
    "    \n",
    "    d['field_name'] = df['field_name'].str.lower()\n",
    "    d['field_name'] = d['field_name'].apply(normalize)\n",
    "    return d"
   ]
  }
 ],
 "metadata": {
  "kernelspec": {
   "display_name": "Python 3",
   "language": "python",
   "name": "python3"
  },
  "language_info": {
   "codemirror_mode": {
    "name": "ipython",
    "version": 3
   },
   "file_extension": ".py",
   "mimetype": "text/x-python",
   "name": "python",
   "nbconvert_exporter": "python",
   "pygments_lexer": "ipython3",
   "version": "3.8.2"
  }
 },
 "nbformat": 4,
 "nbformat_minor": 5
}
