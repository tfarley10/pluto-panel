{
 "cells": [
  {
   "cell_type": "code",
   "execution_count": 1,
   "id": "a502814a",
   "metadata": {},
   "outputs": [],
   "source": [
    "import re\n",
    "import os\n",
    "import pandas as pd\n",
    "from typing import Hashable\n",
    "from calendar import month_name"
   ]
  },
  {
   "cell_type": "code",
   "execution_count": 2,
   "id": "866c3f6e",
   "metadata": {},
   "outputs": [],
   "source": [
    "def file_to_str(year:int):\n",
    "    path =  f'../metadata_text/{year}_metadata.txt'\n",
    "    try:\n",
    "        \n",
    "        with open(path) as p:\n",
    "        \n",
    "            contents = p.read()\n",
    "        return contents\n",
    "    except:\n",
    "        print(f\"{path} DNE\")"
   ]
  },
  {
   "cell_type": "markdown",
   "id": "c330ba97",
   "metadata": {},
   "source": [
    "## Clean up initial text file"
   ]
  },
  {
   "cell_type": "code",
   "execution_count": 3,
   "id": "c0974489",
   "metadata": {},
   "outputs": [],
   "source": [
    "def clean_regex(pluto_text:str):\n",
    "    single = '\\n[\\s\\S]\\n'\n",
    "    page_num = '\\n\\d+\\n'\n",
    "    comb = single + '|' + page_num\n",
    "    \n",
    "    try:\n",
    "        return re.sub(comb, '\\n', pluto_text)\n",
    "    except:\n",
    "        print(\"exc\")\n",
    "    "
   ]
  },
  {
   "cell_type": "code",
   "execution_count": 4,
   "id": "67e212ab",
   "metadata": {},
   "outputs": [],
   "source": [
    "def mk_pluto_headers():\n",
    "    pluto_dd = \"PLUTO.? DATA DICTIONARY\"\n",
    "\n",
    "    header_list = []\n",
    "    for m in list(month_name[1:]):\n",
    "        header_list.append(pluto_dd + \"\\s*\"+ m + \" 200\\d\")\n",
    "        header_list.append( m + \" 200\\d\" + \"\\s*\" + pluto_dd)\n",
    "    \n",
    "    return '|'.join(header_list)"
   ]
  },
  {
   "cell_type": "code",
   "execution_count": 5,
   "id": "fc1b4446",
   "metadata": {},
   "outputs": [],
   "source": [
    "HEADS = mk_pluto_headers()"
   ]
  },
  {
   "cell_type": "code",
   "execution_count": 6,
   "id": "d3413860",
   "metadata": {},
   "outputs": [],
   "source": [
    "def metadata_list(pluto_string:str):\n",
    "        matches = re.split('Field Name:\\s?', pluto_string)\n",
    "        l = []\n",
    "        for match in matches:\n",
    "            if '. . .' not in match and '...' not in match:\n",
    "                field = re.split('Format:\\s?|Data Source:\\s?|Description:\\s?', match)\n",
    "                for i in range(0, len(field)):\n",
    "                    field[i] = re.sub('\\s$', '', field[i])\n",
    "                    field[i] = re.sub('[\\s\\n]{2,}', ' ', field[i])\n",
    "                    field[i] = re.sub('\\n', '', field[i])\n",
    "                    \n",
    "                l.append(field)\n",
    "        return l"
   ]
  },
  {
   "cell_type": "code",
   "execution_count": 7,
   "id": "2471964c",
   "metadata": {},
   "outputs": [],
   "source": [
    "def text_to_df(yr):\n",
    "    pluto_text = file_to_str(yr)\n",
    "    txt = clean_regex(pluto_text)\n",
    "    txt = re.sub(HEADS, '\\n', txt)\n",
    "    spl_text = metadata_list(txt)\n",
    "    col_names = ['field_name', 'data_type', 'source', 'definition']\n",
    "    try:\n",
    "        df = pd.DataFrame(spl_text, columns=col_names)\n",
    "        df['year'] = yr\n",
    "        return df\n",
    "    except:\n",
    "        print(f\"there was an issue with {yr}\")\n",
    "    "
   ]
  },
  {
   "cell_type": "code",
   "execution_count": 8,
   "id": "76254142",
   "metadata": {},
   "outputs": [],
   "source": [
    "# text_to_df(2004)\n",
    "l = []\n",
    "\n",
    "for i in range(2004, 2021):\n",
    "    if i != 2008:\n",
    "        l.append(text_to_df(i))"
   ]
  },
  {
   "cell_type": "code",
   "execution_count": 9,
   "id": "3d51eec9",
   "metadata": {},
   "outputs": [],
   "source": [
    "meta_04_20=pd.concat(l)"
   ]
  },
  {
   "cell_type": "code",
   "execution_count": 10,
   "id": "808dfa4d",
   "metadata": {},
   "outputs": [
    {
     "data": {
      "text/html": [
       "<div>\n",
       "<style scoped>\n",
       "    .dataframe tbody tr th:only-of-type {\n",
       "        vertical-align: middle;\n",
       "    }\n",
       "\n",
       "    .dataframe tbody tr th {\n",
       "        vertical-align: top;\n",
       "    }\n",
       "\n",
       "    .dataframe thead th {\n",
       "        text-align: right;\n",
       "    }\n",
       "</style>\n",
       "<table border=\"1\" class=\"dataframe\">\n",
       "  <thead>\n",
       "    <tr style=\"text-align: right;\">\n",
       "      <th></th>\n",
       "      <th>field_name</th>\n",
       "      <th>data_type</th>\n",
       "      <th>source</th>\n",
       "      <th>definition</th>\n",
       "      <th>year</th>\n",
       "    </tr>\n",
       "  </thead>\n",
       "  <tbody>\n",
       "    <tr>\n",
       "      <th>0</th>\n",
       "      <td>Two types of Field Names are included - extern...</td>\n",
       "      <td>The Format is divided into two parts:type of f...</td>\n",
       "      <td>The Data Source identifies the city agency and...</td>\n",
       "      <td>The Description includes a brief explanation o...</td>\n",
       "      <td>2004</td>\n",
       "    </tr>\n",
       "    <tr>\n",
       "      <th>1</th>\n",
       "      <td>BOROUGH (Borough)</td>\n",
       "      <td>Alphanumeric - 2 characters</td>\n",
       "      <td>Department of City Planning - based on data fr...</td>\n",
       "      <td>The borough that the tax lot is located in.Thi...</td>\n",
       "      <td>2004</td>\n",
       "    </tr>\n",
       "    <tr>\n",
       "      <th>2</th>\n",
       "      <td>TAX BLOCK (Block)</td>\n",
       "      <td>Numeric - 5 digits (99999)</td>\n",
       "      <td>Department of Finance - RPAD Master File</td>\n",
       "      <td>The tax block that the tax lot is located in.T...</td>\n",
       "      <td>2004</td>\n",
       "    </tr>\n",
       "    <tr>\n",
       "      <th>3</th>\n",
       "      <td>TAX LOT (Lot)</td>\n",
       "      <td>Numeric - 4 digits (9999)</td>\n",
       "      <td>Department of Finance - RPAD Master File</td>\n",
       "      <td>The number of the tax lot.This field contains ...</td>\n",
       "      <td>2004</td>\n",
       "    </tr>\n",
       "    <tr>\n",
       "      <th>4</th>\n",
       "      <td>COMMUNITY DISTRICT (CD)</td>\n",
       "      <td>Numeric - 3 digits (999)</td>\n",
       "      <td>Department of City Planning - based on data fr...</td>\n",
       "      <td>The community district (CD) or joint interest ...</td>\n",
       "      <td>2004</td>\n",
       "    </tr>\n",
       "    <tr>\n",
       "      <th>...</th>\n",
       "      <td>...</td>\n",
       "      <td>...</td>\n",
       "      <td>...</td>\n",
       "      <td>...</td>\n",
       "      <td>...</td>\n",
       "    </tr>\n",
       "    <tr>\n",
       "      <th>86</th>\n",
       "      <td>VERSION NUMBER (Version)</td>\n",
       "      <td>Alphanumeric – 6 characters PLUTO DATA DICTION...</td>\n",
       "      <td>Department of City Planning</td>\n",
       "      <td>The version number for this release of PLUTO. ...</td>\n",
       "      <td>2020</td>\n",
       "    </tr>\n",
       "    <tr>\n",
       "      <th>87</th>\n",
       "      <td>CHANGED BY DCP (DCPEdited)</td>\n",
       "      <td>Alphanumeric – 3 characters</td>\n",
       "      <td>Department of City Planning</td>\n",
       "      <td>Flag indicating that City Planning has applied...</td>\n",
       "      <td>2020</td>\n",
       "    </tr>\n",
       "    <tr>\n",
       "      <th>88</th>\n",
       "      <td>LATITUDE (Latitude)</td>\n",
       "      <td>Numeric</td>\n",
       "      <td>Department of City Planning</td>\n",
       "      <td>The WGS 84 latitude of the latitude/longitude ...</td>\n",
       "      <td>2020</td>\n",
       "    </tr>\n",
       "    <tr>\n",
       "      <th>89</th>\n",
       "      <td>LONGITUDE (Longitude)</td>\n",
       "      <td>Numeric</td>\n",
       "      <td>Department of City Planning</td>\n",
       "      <td>The WGS 84 longitude of the latitude/longitude...</td>\n",
       "      <td>2020</td>\n",
       "    </tr>\n",
       "    <tr>\n",
       "      <th>90</th>\n",
       "      <td>NOTES (Notes)</td>\n",
       "      <td>Alphanumeric – 20 characters</td>\n",
       "      <td>Department of City Planning</td>\n",
       "      <td>A text field containing notes of importance to...</td>\n",
       "      <td>2020</td>\n",
       "    </tr>\n",
       "  </tbody>\n",
       "</table>\n",
       "<p>1297 rows × 5 columns</p>\n",
       "</div>"
      ],
      "text/plain": [
       "                                           field_name  \\\n",
       "0   Two types of Field Names are included - extern...   \n",
       "1                                   BOROUGH (Borough)   \n",
       "2                                   TAX BLOCK (Block)   \n",
       "3                                       TAX LOT (Lot)   \n",
       "4                             COMMUNITY DISTRICT (CD)   \n",
       "..                                                ...   \n",
       "86                           VERSION NUMBER (Version)   \n",
       "87                         CHANGED BY DCP (DCPEdited)   \n",
       "88                                LATITUDE (Latitude)   \n",
       "89                              LONGITUDE (Longitude)   \n",
       "90                                      NOTES (Notes)   \n",
       "\n",
       "                                            data_type  \\\n",
       "0   The Format is divided into two parts:type of f...   \n",
       "1                         Alphanumeric - 2 characters   \n",
       "2                          Numeric - 5 digits (99999)   \n",
       "3                           Numeric - 4 digits (9999)   \n",
       "4                            Numeric - 3 digits (999)   \n",
       "..                                                ...   \n",
       "86  Alphanumeric – 6 characters PLUTO DATA DICTION...   \n",
       "87                        Alphanumeric – 3 characters   \n",
       "88                                            Numeric   \n",
       "89                                            Numeric   \n",
       "90                       Alphanumeric – 20 characters   \n",
       "\n",
       "                                               source  \\\n",
       "0   The Data Source identifies the city agency and...   \n",
       "1   Department of City Planning - based on data fr...   \n",
       "2            Department of Finance - RPAD Master File   \n",
       "3            Department of Finance - RPAD Master File   \n",
       "4   Department of City Planning - based on data fr...   \n",
       "..                                                ...   \n",
       "86                        Department of City Planning   \n",
       "87                        Department of City Planning   \n",
       "88                        Department of City Planning   \n",
       "89                        Department of City Planning   \n",
       "90                        Department of City Planning   \n",
       "\n",
       "                                           definition  year  \n",
       "0   The Description includes a brief explanation o...  2004  \n",
       "1   The borough that the tax lot is located in.Thi...  2004  \n",
       "2   The tax block that the tax lot is located in.T...  2004  \n",
       "3   The number of the tax lot.This field contains ...  2004  \n",
       "4   The community district (CD) or joint interest ...  2004  \n",
       "..                                                ...   ...  \n",
       "86  The version number for this release of PLUTO. ...  2020  \n",
       "87  Flag indicating that City Planning has applied...  2020  \n",
       "88  The WGS 84 latitude of the latitude/longitude ...  2020  \n",
       "89  The WGS 84 longitude of the latitude/longitude...  2020  \n",
       "90  A text field containing notes of importance to...  2020  \n",
       "\n",
       "[1297 rows x 5 columns]"
      ]
     },
     "execution_count": 10,
     "metadata": {},
     "output_type": "execute_result"
    }
   ],
   "source": [
    "meta_04_20"
   ]
  },
  {
   "cell_type": "code",
   "execution_count": 11,
   "id": "ad291059",
   "metadata": {},
   "outputs": [
    {
     "data": {
      "text/plain": [
       "<google.cloud.bigquery.job.load.LoadJob at 0x7ff0c8309a90>"
      ]
     },
     "execution_count": 11,
     "metadata": {},
     "output_type": "execute_result"
    }
   ],
   "source": [
    "from google.cloud import storage\n",
    "from google.cloud import bigquery\n",
    "from google.cloud.exceptions import NotFound\n",
    "\n",
    "\n",
    "os.environ[\"GOOGLE_APPLICATION_CREDENTIALS\"] = '../secrets/secret.json'\n",
    "bq_client = bigquery.Client()\n",
    "\n",
    "\n",
    "table_id = \"pluto-panel.metadata.metadata_2004_2020\"\n",
    "\n",
    "job = bq_client.load_table_from_dataframe(\n",
    "    meta_04_20, table_id\n",
    ")\n",
    "job.result()  "
   ]
  },
  {
   "cell_type": "code",
   "execution_count": null,
   "id": "b0b0b0a1",
   "metadata": {
    "jupyter": {
     "source_hidden": true
    },
    "tags": []
   },
   "outputs": [],
   "source": [
    "def normalize(col_name: Hashable) -> str:\n",
    "    fixes = [(r\"[ /:,?()\\.-]\", \"_\"), (r\"['’]\", \"\")]\n",
    "    \"\"\"Perform normalization of column name.\"\"\"\n",
    "    result = str(col_name)\n",
    "    for search, replace in fixes:\n",
    "        result = re.sub(search, replace, result)\n",
    "    return result"
   ]
  },
  {
   "cell_type": "code",
   "execution_count": null,
   "id": "16cd1442",
   "metadata": {
    "jupyter": {
     "source_hidden": true
    },
    "tags": []
   },
   "outputs": [],
   "source": [
    "def clean_df(df):\n",
    "    \n",
    "    \n",
    "    split_field = d.field_name.str.split('\\s\\(', expand = True)\n",
    "    \n",
    "    d['friendly_name'] = split_field.iloc[:,0]\n",
    "    d['field_name'] = split_field.iloc[:,1]\\\n",
    "                      .str.replace(')', '', regex = False)\n",
    "    \n",
    "    d['field_name'] = df['field_name'].str.lower()\n",
    "    d['field_name'] = d['field_name'].apply(normalize)\n",
    "    return d"
   ]
  }
 ],
 "metadata": {
  "kernelspec": {
   "display_name": "Python 3",
   "language": "python",
   "name": "python3"
  },
  "language_info": {
   "codemirror_mode": {
    "name": "ipython",
    "version": 3
   },
   "file_extension": ".py",
   "mimetype": "text/x-python",
   "name": "python",
   "nbconvert_exporter": "python",
   "pygments_lexer": "ipython3",
   "version": "3.8.2"
  }
 },
 "nbformat": 4,
 "nbformat_minor": 5
}
