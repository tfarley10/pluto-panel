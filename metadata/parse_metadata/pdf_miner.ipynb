{
 "cells": [
  {
   "cell_type": "markdown",
   "id": "f3fa72ec",
   "metadata": {},
   "source": [
    "#! pip3 install PyMuPDF"
   ]
  },
  {
   "cell_type": "markdown",
   "id": "f74feb5a",
   "metadata": {},
   "source": [
    "# [DOCS](https://pymupdf.readthedocs.io/en/latest/tutorial.html)"
   ]
  },
  {
   "cell_type": "code",
   "execution_count": 1,
   "id": "ee46797e",
   "metadata": {},
   "outputs": [],
   "source": [
    "import fitz\n",
    "import os\n",
    "import logging\n",
    "import logging.config"
   ]
  },
  {
   "cell_type": "code",
   "execution_count": 2,
   "id": "a9ce9445",
   "metadata": {},
   "outputs": [],
   "source": [
    "wd = '/Users/edwardfarley/Desktop/nyc_land'\n",
    "os.chdir(wd)"
   ]
  },
  {
   "cell_type": "code",
   "execution_count": 3,
   "id": "d95d2d20",
   "metadata": {},
   "outputs": [],
   "source": [
    "logger = logging.getLogger(__name__)\n",
    "logging.config.fileConfig('parse_metadata/logging.ini', disable_existing_loggers=False)"
   ]
  },
  {
   "cell_type": "code",
   "execution_count": 4,
   "id": "7105f144",
   "metadata": {},
   "outputs": [],
   "source": [
    "pdf_list = []\n",
    "for root, dir, file in os.walk(os.path.join(os.getcwd(), 'parse_metadata/data/pdf')):\n",
    "    for f in file:\n",
    "        if 'checkpoint' not in f and '.pdf' in f:\n",
    "            pdf_list.append(os.path.join(root, f))"
   ]
  },
  {
   "cell_type": "code",
   "execution_count": 5,
   "id": "d5c19424",
   "metadata": {},
   "outputs": [],
   "source": [
    "def write_pdf_to_text(pdf_file:str):\n",
    "    yr = pdf_file.rsplit('/', 1)[1].rsplit('.')[0]\n",
    "    \n",
    "    out_dir = os.path.join(os.getcwd(), f'parse_metadata/data/text_files/')\n",
    "    \n",
    "    if not os.path.isdir(out_dir):\n",
    "        os.mkdir(out_dir)\n",
    "    \n",
    "    out_path = os.path.join(out_dir, f'{yr}_metadata.txt')\n",
    "    if os.path.isfile(out_path):\n",
    "        logger.info(\"file exists already!\")\n",
    "        return None\n",
    "    else:\n",
    "        logger.info(\"writing pdf to text file\", extra = {\"pdf\":pdf_file, \"text\":out_path})\n",
    "        \n",
    "        with fitz.open(pdf_file) as pdf_doc:\n",
    "            with open(out_path, 'w') as f:\n",
    "                for p in pdf_doc:\n",
    "                    f.write(p.get_text(\"text\"))  "
   ]
  },
  {
   "cell_type": "code",
   "execution_count": 6,
   "id": "bca651ab",
   "metadata": {},
   "outputs": [
    {
     "name": "stdout",
     "output_type": "stream",
     "text": [
      "2021-05-09 20:12:44,040 __main__ - INFO:file exists already!\n",
      "2021-05-09 20:12:44,044 __main__ - INFO:file exists already!\n",
      "2021-05-09 20:12:44,046 __main__ - INFO:file exists already!\n",
      "2021-05-09 20:12:44,048 __main__ - INFO:file exists already!\n",
      "2021-05-09 20:12:44,050 __main__ - INFO:file exists already!\n",
      "2021-05-09 20:12:44,051 __main__ - INFO:file exists already!\n",
      "2021-05-09 20:12:44,054 __main__ - INFO:file exists already!\n",
      "2021-05-09 20:12:44,055 __main__ - INFO:file exists already!\n",
      "2021-05-09 20:12:44,057 __main__ - INFO:file exists already!\n",
      "2021-05-09 20:12:44,060 __main__ - INFO:file exists already!\n",
      "2021-05-09 20:12:44,062 __main__ - INFO:file exists already!\n",
      "2021-05-09 20:12:44,063 __main__ - INFO:file exists already!\n",
      "2021-05-09 20:12:44,065 __main__ - INFO:file exists already!\n",
      "2021-05-09 20:12:44,068 __main__ - INFO:file exists already!\n",
      "2021-05-09 20:12:44,071 __main__ - INFO:file exists already!\n",
      "2021-05-09 20:12:44,073 __main__ - INFO:file exists already!\n"
     ]
    },
    {
     "data": {
      "text/plain": [
       "False"
      ]
     },
     "execution_count": 6,
     "metadata": {},
     "output_type": "execute_result"
    }
   ],
   "source": [
    "any(map(write_pdf_to_text, pdf_list))"
   ]
  }
 ],
 "metadata": {
  "kernelspec": {
   "display_name": "Python 3",
   "language": "python",
   "name": "python3"
  },
  "language_info": {
   "codemirror_mode": {
    "name": "ipython",
    "version": 3
   },
   "file_extension": ".py",
   "mimetype": "text/x-python",
   "name": "python",
   "nbconvert_exporter": "python",
   "pygments_lexer": "ipython3",
   "version": "3.8.2"
  }
 },
 "nbformat": 4,
 "nbformat_minor": 5
}
