{
 "cells": [
  {
   "cell_type": "code",
   "execution_count": null,
   "id": "2e8bccbe",
   "metadata": {
    "tags": []
   },
   "outputs": [],
   "source": [
    "import os\n",
    "import re\n",
    "from io import BytesIO\n",
    "from urllib.request import urlopen\n",
    "from zipfile import ZipFile\n",
    "import pandas as pd\n",
    "from shutil import copy, rmtree\n",
    "import logging\n",
    "import logging.config\n",
    "\n",
    "pd.options.mode.chained_assignment = None\n"
   ]
  },
  {
   "cell_type": "code",
   "execution_count": null,
   "id": "12f4de80",
   "metadata": {},
   "outputs": [],
   "source": [
    "# logger = logging.getLogger(__name__)\n",
    "# logging.config.fileConfig('logging.ini', disable_existing_loggers=False)"
   ]
  },
  {
   "cell_type": "code",
   "execution_count": null,
   "id": "7718bff9",
   "metadata": {},
   "outputs": [],
   "source": [
    "def files_from_url(url = None, year = None):\n",
    "    \"\"\"\n",
    "    get all path names for all zips\n",
    "    \"\"\"\n",
    "    l = []\n",
    "    with urlopen(url) as zipresp:\n",
    "#         logger.info(\"Downloading MapPluto ZipFile from url\", extra = {\"url\":url})\n",
    "        with ZipFile(BytesIO(zipresp.read())) as zfile:\n",
    "            l = zfile.namelist()\n",
    "            df = pd.DataFrame(l, columns = ['path'])\n",
    "            df['year'] = year\n",
    "            df['url'] = url\n",
    "            return df"
   ]
  },
  {
   "cell_type": "code",
   "execution_count": null,
   "id": "c840a82c",
   "metadata": {
    "tags": []
   },
   "outputs": [],
   "source": [
    "def get_all_pluto_files(zip_links:pd.DataFrame):\n",
    "    \"\"\"\n",
    "    Extracts all filenames from the MapPluto Archives\n",
    "    Saves\n",
    "    \"\"\"\n",
    "\n",
    "    out_path = 'all_pluto_files.csv'\n",
    "\n",
    "    if not os.path.exists(out_path):\n",
    "        file_df = []\n",
    "\n",
    "        for index, row in zip_links.iterrows():\n",
    "            file_df.append(files_from_url(url=row.path, year=row.year))\n",
    "        d = pd.concat(file_df)\n",
    "        \n",
    "        d.to_csv(out_path, index=False)\n",
    "        return d\n",
    "    else:\n",
    "        print(f\"{out_path} already exists\")\n",
    "        return pd.read_csv(out_path)"
   ]
  },
  {
   "cell_type": "code",
   "execution_count": null,
   "id": "c2da6c4a",
   "metadata": {},
   "outputs": [],
   "source": [
    "for index, row in d4.iterrows():\n",
    "    \n",
    "    download_metadata(zip_url = row.url, year = row.year, ext = row.ext, path = row.path)"
   ]
  },
  {
   "cell_type": "code",
   "execution_count": null,
   "id": "63832038",
   "metadata": {},
   "outputs": [],
   "source": [
    "def main():\n",
    "    \n",
    "    zip_links = pd.read_csv('zip_links.csv')\n",
    "    d = get_all_pluto_files(zip_links)\n",
    "    \n",
    "    d['ext'] = d['path'].str.rsplit('.', expand = True, n=1)[1].str.lower()\n",
    "    d2 = d[d['ext'].isin(['pdf', 'htm', 'html'])].reset_index(drop = True)\n",
    "    d3 = d2[~d2['path'].str.contains('readme', case=False)].reset_index(drop = True)\n",
    "    d3['len'] = d3.path.str.len()\n",
    "    d4 = d3.iloc[d3.groupby('year')['len'].agg(pd.Series.idxmin)].reset_index(drop = True)\n",
    "    \n",
    "    for index, row in d4.iterrows():\n",
    "    \n",
    "        download_metadata(zip_url = row.url, year = row.year, ext = row.ext, path = row.path)"
   ]
  },
  {
   "cell_type": "code",
   "execution_count": null,
   "id": "044d0f89",
   "metadata": {},
   "outputs": [],
   "source": [
    "if __name__ == '__main__':\n",
    "    main()"
   ]
  }
 ],
 "metadata": {
  "kernelspec": {
   "display_name": "Python 3",
   "language": "python",
   "name": "python3"
  },
  "language_info": {
   "codemirror_mode": {
    "name": "ipython",
    "version": 3
   },
   "file_extension": ".py",
   "mimetype": "text/x-python",
   "name": "python",
   "nbconvert_exporter": "python",
   "pygments_lexer": "ipython3",
   "version": "3.8.2"
  }
 },
 "nbformat": 4,
 "nbformat_minor": 5
}
